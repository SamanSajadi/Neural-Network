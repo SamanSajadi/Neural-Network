{
  "nbformat": 4,
  "nbformat_minor": 0,
  "metadata": {
    "kernelspec": {
      "display_name": "Python 3",
      "language": "python",
      "name": "python3"
    },
    "language_info": {
      "codemirror_mode": {
        "name": "ipython",
        "version": 3
      },
      "file_extension": ".py",
      "mimetype": "text/x-python",
      "name": "python",
      "nbconvert_exporter": "python",
      "pygments_lexer": "ipython3",
      "version": "3.7.9"
    },
    "colab": {
      "name": "regression_example.ipynb",
      "provenance": []
    }
  },
  "cells": [
    {
      "cell_type": "code",
      "metadata": {
        "id": "sDiFXbbFPEEa"
      },
      "source": [
        "import numpy as np\n",
        "import pandas as pd\n",
        "import tensorflow as tf\n",
        "import matplotlib.pyplot as plt"
      ],
      "execution_count": null,
      "outputs": []
    },
    {
      "cell_type": "markdown",
      "metadata": {
        "id": "OyJ4_Db7PEEx"
      },
      "source": [
        "# Load Boston Houses Dataset"
      ]
    },
    {
      "cell_type": "code",
      "metadata": {
        "id": "wbgQ4MPfPEE2"
      },
      "source": [
        "(train_data, train_labels), (test_data, test_labels) = tf.keras.datasets.boston_housing.load_data()"
      ],
      "execution_count": null,
      "outputs": []
    },
    {
      "cell_type": "code",
      "metadata": {
        "colab": {
          "base_uri": "https://localhost:8080/"
        },
        "id": "MOXSox2YPEE4",
        "outputId": "c116b778-ffbd-4470-80a2-5512a48184d6"
      },
      "source": [
        "test_data.shape"
      ],
      "execution_count": null,
      "outputs": [
        {
          "output_type": "execute_result",
          "data": {
            "text/plain": [
              "(102, 13)"
            ]
          },
          "metadata": {
            "tags": []
          },
          "execution_count": 3
        }
      ]
    },
    {
      "cell_type": "code",
      "metadata": {
        "id": "-lpdFHBfPEFA",
        "colab": {
          "base_uri": "https://localhost:8080/"
        },
        "outputId": "4bf34d84-6d55-458e-cb3e-a92085ff66c5"
      },
      "source": [
        "train_data.shape"
      ],
      "execution_count": null,
      "outputs": [
        {
          "output_type": "execute_result",
          "data": {
            "text/plain": [
              "(404, 13)"
            ]
          },
          "metadata": {
            "tags": []
          },
          "execution_count": 4
        }
      ]
    },
    {
      "cell_type": "markdown",
      "metadata": {
        "id": "vlzyuuWgPEFD"
      },
      "source": [
        "train_labels.shape"
      ]
    },
    {
      "cell_type": "code",
      "metadata": {
        "id": "nFUgqAJSPEFG",
        "colab": {
          "base_uri": "https://localhost:8080/"
        },
        "outputId": "34a0a1eb-7aa6-4e62-ff1a-157bfe45fb0e"
      },
      "source": [
        "test_labels.shape"
      ],
      "execution_count": null,
      "outputs": [
        {
          "output_type": "execute_result",
          "data": {
            "text/plain": [
              "(102,)"
            ]
          },
          "metadata": {
            "tags": []
          },
          "execution_count": 5
        }
      ]
    },
    {
      "cell_type": "code",
      "metadata": {
        "scrolled": true,
        "id": "EOApJIxRPEFI",
        "colab": {
          "base_uri": "https://localhost:8080/"
        },
        "outputId": "c0903391-c6e3-424b-f19c-edd2528b50ce"
      },
      "source": [
        "train_labels.shape, train_labels.dtype, train_labels[1:4]"
      ],
      "execution_count": null,
      "outputs": [
        {
          "output_type": "execute_result",
          "data": {
            "text/plain": [
              "((404,), dtype('float64'), array([42.3, 50. , 21.1]))"
            ]
          },
          "metadata": {
            "tags": []
          },
          "execution_count": 6
        }
      ]
    },
    {
      "cell_type": "markdown",
      "metadata": {
        "id": "v9nyiZ6FPEFL"
      },
      "source": [
        "### check shapes and types"
      ]
    },
    {
      "cell_type": "code",
      "metadata": {
        "id": "4JHLs8cUPEFN",
        "colab": {
          "base_uri": "https://localhost:8080/"
        },
        "outputId": "597a1729-2acb-4c4d-f81f-0da9973ec5da"
      },
      "source": [
        "type(train_data), train_data.dtype, train_data.shape"
      ],
      "execution_count": null,
      "outputs": [
        {
          "output_type": "execute_result",
          "data": {
            "text/plain": [
              "(numpy.ndarray, dtype('float64'), (404, 13))"
            ]
          },
          "metadata": {
            "tags": []
          },
          "execution_count": 7
        }
      ]
    },
    {
      "cell_type": "code",
      "metadata": {
        "id": "YhKx-bpAPEFO",
        "colab": {
          "base_uri": "https://localhost:8080/"
        },
        "outputId": "79b84e44-2036-4635-aee7-47d954f537a6"
      },
      "source": [
        "type(train_labels), train_labels.dtype, train_labels.shape"
      ],
      "execution_count": null,
      "outputs": [
        {
          "output_type": "execute_result",
          "data": {
            "text/plain": [
              "(numpy.ndarray, dtype('float64'), (404,))"
            ]
          },
          "metadata": {
            "tags": []
          },
          "execution_count": 8
        }
      ]
    },
    {
      "cell_type": "markdown",
      "metadata": {
        "id": "GFOEftd8PEFT"
      },
      "source": [
        "### reshape to (-1, 1)"
      ]
    },
    {
      "cell_type": "code",
      "metadata": {
        "scrolled": true,
        "colab": {
          "base_uri": "https://localhost:8080/"
        },
        "id": "oM-vGUcwPEFU",
        "outputId": "62f62590-a3d3-4fb6-f308-78a196a1e42c"
      },
      "source": [
        "train_labels = np.reshape(train_labels, newshape=(-1, 1))\n",
        "test_labels = np.reshape(test_labels, newshape=(-1, 1))\n",
        "train_labels.shape, test_labels.shape"
      ],
      "execution_count": null,
      "outputs": [
        {
          "output_type": "execute_result",
          "data": {
            "text/plain": [
              "((404, 1), (102, 1))"
            ]
          },
          "metadata": {
            "tags": []
          },
          "execution_count": 9
        }
      ]
    },
    {
      "cell_type": "code",
      "metadata": {
        "scrolled": true,
        "id": "1LdgWhHTPEFX"
      },
      "source": [
        "test_labels"
      ],
      "execution_count": null,
      "outputs": []
    },
    {
      "cell_type": "markdown",
      "metadata": {
        "id": "GzHnGXgkPEFX"
      },
      "source": [
        "### check min and max of data"
      ]
    },
    {
      "cell_type": "code",
      "metadata": {
        "id": "wCG9-eqPPEFZ",
        "colab": {
          "base_uri": "https://localhost:8080/"
        },
        "outputId": "5d00807c-1161-40fc-92a2-406c6cd47c0a"
      },
      "source": [
        "np.max(train_data, axis=0)"
      ],
      "execution_count": null,
      "outputs": [
        {
          "output_type": "execute_result",
          "data": {
            "text/plain": [
              "array([ 88.9762, 100.    ,  27.74  ,   1.    ,   0.871 ,   8.725 ,\n",
              "       100.    ,  10.7103,  24.    , 711.    ,  22.    , 396.9   ,\n",
              "        37.97  ])"
            ]
          },
          "metadata": {
            "tags": []
          },
          "execution_count": 11
        }
      ]
    },
    {
      "cell_type": "code",
      "metadata": {
        "id": "_zFs7D0uPEFe",
        "colab": {
          "base_uri": "https://localhost:8080/"
        },
        "outputId": "eb44f681-6b45-4f0b-9c4e-9717fe0c7a94"
      },
      "source": [
        "np.min(train_data, axis=0)"
      ],
      "execution_count": null,
      "outputs": [
        {
          "output_type": "execute_result",
          "data": {
            "text/plain": [
              "array([6.3200e-03, 0.0000e+00, 4.6000e-01, 0.0000e+00, 3.8500e-01,\n",
              "       3.5610e+00, 2.9000e+00, 1.1296e+00, 1.0000e+00, 1.8800e+02,\n",
              "       1.2600e+01, 3.2000e-01, 1.7300e+00])"
            ]
          },
          "metadata": {
            "tags": []
          },
          "execution_count": 12
        }
      ]
    },
    {
      "cell_type": "code",
      "metadata": {
        "id": "qBosgBm2PEFg",
        "colab": {
          "base_uri": "https://localhost:8080/"
        },
        "outputId": "4f433703-380d-4c60-adb0-c0f2fc4fbb10"
      },
      "source": [
        "np.max(train_labels)"
      ],
      "execution_count": null,
      "outputs": [
        {
          "output_type": "execute_result",
          "data": {
            "text/plain": [
              "50.0"
            ]
          },
          "metadata": {
            "tags": []
          },
          "execution_count": 13
        }
      ]
    },
    {
      "cell_type": "code",
      "metadata": {
        "id": "nK2hH_9GPEFh",
        "colab": {
          "base_uri": "https://localhost:8080/"
        },
        "outputId": "256e5769-c7ff-44b9-a44a-4526af92b36a"
      },
      "source": [
        "np.min(train_labels)"
      ],
      "execution_count": null,
      "outputs": [
        {
          "output_type": "execute_result",
          "data": {
            "text/plain": [
              "5.0"
            ]
          },
          "metadata": {
            "tags": []
          },
          "execution_count": 14
        }
      ]
    },
    {
      "cell_type": "markdown",
      "metadata": {
        "id": "QpOmtLgWPEFk"
      },
      "source": [
        "# Normalize the data"
      ]
    },
    {
      "cell_type": "markdown",
      "metadata": {
        "id": "VBKO9ctAPEFn"
      },
      "source": [
        "### using MinMaxScaler"
      ]
    },
    {
      "cell_type": "code",
      "metadata": {
        "id": "haH10epVPEFn"
      },
      "source": [
        "from sklearn.preprocessing import MinMaxScaler"
      ],
      "execution_count": null,
      "outputs": []
    },
    {
      "cell_type": "code",
      "metadata": {
        "colab": {
          "base_uri": "https://localhost:8080/"
        },
        "id": "oBmvvyJZPEFo",
        "outputId": "ec17e696-c158-4f28-d368-5404307b30b7"
      },
      "source": [
        "my_scaler = MinMaxScaler()\n",
        "my_scaler.fit(train_data)"
      ],
      "execution_count": null,
      "outputs": [
        {
          "output_type": "execute_result",
          "data": {
            "text/plain": [
              "MinMaxScaler(copy=True, feature_range=(0, 1))"
            ]
          },
          "metadata": {
            "tags": []
          },
          "execution_count": 16
        }
      ]
    },
    {
      "cell_type": "code",
      "metadata": {
        "id": "UnPKntfUPEFq"
      },
      "source": [
        "train_data = my_scaler.transform(train_data)"
      ],
      "execution_count": null,
      "outputs": []
    },
    {
      "cell_type": "code",
      "metadata": {
        "colab": {
          "base_uri": "https://localhost:8080/"
        },
        "id": "5Ckfj15fPEFr",
        "outputId": "6c18c6f3-fc61-42cc-e072-c3eb9c902f22"
      },
      "source": [
        "np.max(train_data, axis=0)"
      ],
      "execution_count": null,
      "outputs": [
        {
          "output_type": "execute_result",
          "data": {
            "text/plain": [
              "array([1., 1., 1., 1., 1., 1., 1., 1., 1., 1., 1., 1., 1.])"
            ]
          },
          "metadata": {
            "tags": []
          },
          "execution_count": 18
        }
      ]
    },
    {
      "cell_type": "code",
      "metadata": {
        "colab": {
          "base_uri": "https://localhost:8080/"
        },
        "id": "NLBhrIsgPEFt",
        "outputId": "5cdcd092-1d6c-4bb3-9f42-ad1d4d1905d6"
      },
      "source": [
        "np.min(train_data, axis=0)"
      ],
      "execution_count": null,
      "outputs": [
        {
          "output_type": "execute_result",
          "data": {
            "text/plain": [
              "array([0., 0., 0., 0., 0., 0., 0., 0., 0., 0., 0., 0., 0.])"
            ]
          },
          "metadata": {
            "tags": []
          },
          "execution_count": 19
        }
      ]
    },
    {
      "cell_type": "markdown",
      "metadata": {
        "id": "Yr2Km6L1PEFu"
      },
      "source": [
        "### just transform to test data"
      ]
    },
    {
      "cell_type": "code",
      "metadata": {
        "collapsed": true,
        "id": "5VE1nPb8PEFv"
      },
      "source": [
        "test_data = my_scaler.transform(test_data)"
      ],
      "execution_count": null,
      "outputs": []
    },
    {
      "cell_type": "code",
      "metadata": {
        "id": "qrH9V0e7PEFw",
        "colab": {
          "base_uri": "https://localhost:8080/"
        },
        "outputId": "73b228cb-7afa-417b-8f31-518c02db4319"
      },
      "source": [
        "np.max(test_data, axis=0)"
      ],
      "execution_count": null,
      "outputs": [
        {
          "output_type": "execute_result",
          "data": {
            "text/plain": [
              "array([0.28144109, 0.9       , 1.        , 1.        , 1.        ,\n",
              "       1.01065066, 1.        , 1.14781801, 1.        , 1.        ,\n",
              "       0.91489362, 1.        , 0.83498896])"
            ]
          },
          "metadata": {
            "tags": []
          },
          "execution_count": 21
        }
      ]
    },
    {
      "cell_type": "code",
      "metadata": {
        "id": "nyY3u0JUPEFw",
        "colab": {
          "base_uri": "https://localhost:8080/"
        },
        "outputId": "fd3c4d7c-14a6-446e-98c6-b8fcb40e3509"
      },
      "source": [
        "np.min(test_data, axis=0)"
      ],
      "execution_count": null,
      "outputs": [
        {
          "output_type": "execute_result",
          "data": {
            "text/plain": [
              "array([ 7.63179629e-05,  0.00000000e+00,  2.78592375e-02,  0.00000000e+00,\n",
              "        1.44032922e-02,  2.55422153e-01,  3.19258496e-02,  3.50600687e-02,\n",
              "        0.00000000e+00, -1.91204589e-03,  4.25531915e-02,  6.13495386e-02,\n",
              "        5.24282561e-03])"
            ]
          },
          "metadata": {
            "tags": []
          },
          "execution_count": 22
        }
      ]
    },
    {
      "cell_type": "code",
      "metadata": {
        "id": "7ZBCnG1NPEFx",
        "colab": {
          "base_uri": "https://localhost:8080/"
        },
        "outputId": "6c964e65-e917-450e-ac1d-fc41a0eedf5a"
      },
      "source": [
        "np.min(test_labels), np.max(test_labels)"
      ],
      "execution_count": null,
      "outputs": [
        {
          "output_type": "execute_result",
          "data": {
            "text/plain": [
              "(5.6, 50.0)"
            ]
          },
          "metadata": {
            "tags": []
          },
          "execution_count": 23
        }
      ]
    },
    {
      "cell_type": "markdown",
      "metadata": {
        "id": "gn8SMi9aPEFy"
      },
      "source": [
        "# Creating the regression model"
      ]
    },
    {
      "cell_type": "markdown",
      "metadata": {
        "id": "XTV0fRErPEFz"
      },
      "source": [
        "### import layers and model"
      ]
    },
    {
      "cell_type": "code",
      "metadata": {
        "id": "WLq98KcsPEF0"
      },
      "source": [
        "from tensorflow.keras.layers import Input, Dense\n",
        "from tensorflow.keras.models import Model"
      ],
      "execution_count": null,
      "outputs": []
    },
    {
      "cell_type": "markdown",
      "metadata": {
        "id": "tjO_sfrNPEF0"
      },
      "source": [
        "### create the model"
      ]
    },
    {
      "cell_type": "code",
      "metadata": {
        "id": "vU0Rwer_PEF1"
      },
      "source": [
        "input_layer = Input((13, ))\n",
        "hidden_layer = Dense(units=4, activation='relu')(input_layer)\n",
        "prediction = Dense(units=1)(hidden_layer)\n",
        "regression_model = Model(input_layer, prediction)"
      ],
      "execution_count": null,
      "outputs": []
    },
    {
      "cell_type": "markdown",
      "metadata": {
        "id": "fK0dTj7TPEF3"
      },
      "source": [
        "### print summary of the model"
      ]
    },
    {
      "cell_type": "code",
      "metadata": {
        "colab": {
          "base_uri": "https://localhost:8080/"
        },
        "id": "QpTQk0F4PEF4",
        "outputId": "4d33f7f4-9b8c-4028-f7b5-2b00c3651391"
      },
      "source": [
        "regression_model.summary()"
      ],
      "execution_count": null,
      "outputs": [
        {
          "output_type": "stream",
          "text": [
            "Model: \"model\"\n",
            "_________________________________________________________________\n",
            "Layer (type)                 Output Shape              Param #   \n",
            "=================================================================\n",
            "input_1 (InputLayer)         [(None, 13)]              0         \n",
            "_________________________________________________________________\n",
            "dense (Dense)                (None, 4)                 56        \n",
            "_________________________________________________________________\n",
            "dense_1 (Dense)              (None, 1)                 5         \n",
            "=================================================================\n",
            "Total params: 61\n",
            "Trainable params: 61\n",
            "Non-trainable params: 0\n",
            "_________________________________________________________________\n"
          ],
          "name": "stdout"
        }
      ]
    },
    {
      "cell_type": "markdown",
      "metadata": {
        "id": "jPNvAMxVPEF7"
      },
      "source": [
        "## Compile the model with optimizer and loss function"
      ]
    },
    {
      "cell_type": "code",
      "metadata": {
        "id": "6MQI1zbdPEF7"
      },
      "source": [
        "from tensorflow.keras.optimizers import SGD, Adam"
      ],
      "execution_count": null,
      "outputs": []
    },
    {
      "cell_type": "code",
      "metadata": {
        "id": "Bqo0MfVIPEF8"
      },
      "source": [
        "regression_model.compile(optimizer='adam', loss='mse')"
      ],
      "execution_count": null,
      "outputs": []
    },
    {
      "cell_type": "markdown",
      "metadata": {
        "id": "u0sTRsa8PEF9"
      },
      "source": [
        "## Now we can train the model"
      ]
    },
    {
      "cell_type": "code",
      "metadata": {
        "colab": {
          "base_uri": "https://localhost:8080/"
        },
        "id": "yN7mPVNHPEF9",
        "outputId": "e91f597f-2dd0-4418-fb73-ec047637a972"
      },
      "source": [
        "regression_model.fit(x=train_data, y=train_labels, batch_size=100, epochs=200, validation_data=(test_data, test_labels))"
      ],
      "execution_count": null,
      "outputs": [
        {
          "output_type": "stream",
          "text": [
            "Epoch 1/200\n",
            "5/5 [==============================] - 0s 24ms/step - loss: 23.0807 - val_loss: 22.9209\n",
            "Epoch 2/200\n",
            "5/5 [==============================] - 0s 13ms/step - loss: 23.0811 - val_loss: 22.9579\n",
            "Epoch 3/200\n",
            "5/5 [==============================] - 0s 12ms/step - loss: 23.0764 - val_loss: 22.9724\n",
            "Epoch 4/200\n",
            "5/5 [==============================] - 0s 13ms/step - loss: 23.0752 - val_loss: 22.9742\n",
            "Epoch 5/200\n",
            "5/5 [==============================] - 0s 11ms/step - loss: 23.0721 - val_loss: 22.9785\n",
            "Epoch 6/200\n",
            "5/5 [==============================] - 0s 12ms/step - loss: 23.0767 - val_loss: 23.0083\n",
            "Epoch 7/200\n",
            "5/5 [==============================] - 0s 10ms/step - loss: 23.0692 - val_loss: 22.9968\n",
            "Epoch 8/200\n",
            "5/5 [==============================] - 0s 13ms/step - loss: 23.0669 - val_loss: 22.9802\n",
            "Epoch 9/200\n",
            "5/5 [==============================] - 0s 12ms/step - loss: 23.0647 - val_loss: 22.9535\n",
            "Epoch 10/200\n",
            "5/5 [==============================] - 0s 10ms/step - loss: 23.0669 - val_loss: 22.9200\n",
            "Epoch 11/200\n",
            "5/5 [==============================] - 0s 11ms/step - loss: 23.0663 - val_loss: 22.9280\n",
            "Epoch 12/200\n",
            "5/5 [==============================] - 0s 10ms/step - loss: 23.0626 - val_loss: 22.9637\n",
            "Epoch 13/200\n",
            "5/5 [==============================] - 0s 12ms/step - loss: 23.0703 - val_loss: 22.9757\n",
            "Epoch 14/200\n",
            "5/5 [==============================] - 0s 11ms/step - loss: 23.0647 - val_loss: 22.9730\n",
            "Epoch 15/200\n",
            "5/5 [==============================] - 0s 10ms/step - loss: 23.0609 - val_loss: 23.0028\n",
            "Epoch 16/200\n",
            "5/5 [==============================] - 0s 11ms/step - loss: 23.0740 - val_loss: 23.0746\n",
            "Epoch 17/200\n",
            "5/5 [==============================] - 0s 12ms/step - loss: 23.0717 - val_loss: 23.0627\n",
            "Epoch 18/200\n",
            "5/5 [==============================] - 0s 11ms/step - loss: 23.0591 - val_loss: 23.0286\n",
            "Epoch 19/200\n",
            "5/5 [==============================] - 0s 11ms/step - loss: 23.0483 - val_loss: 22.9743\n",
            "Epoch 20/200\n",
            "5/5 [==============================] - 0s 11ms/step - loss: 23.0711 - val_loss: 22.9318\n",
            "Epoch 21/200\n",
            "5/5 [==============================] - 0s 10ms/step - loss: 23.1168 - val_loss: 22.8885\n",
            "Epoch 22/200\n",
            "5/5 [==============================] - 0s 12ms/step - loss: 23.1212 - val_loss: 22.9042\n",
            "Epoch 23/200\n",
            "5/5 [==============================] - 0s 12ms/step - loss: 23.1367 - val_loss: 22.8949\n",
            "Epoch 24/200\n",
            "5/5 [==============================] - 0s 10ms/step - loss: 23.1414 - val_loss: 22.9002\n",
            "Epoch 25/200\n",
            "5/5 [==============================] - 0s 12ms/step - loss: 23.1429 - val_loss: 22.9114\n",
            "Epoch 26/200\n",
            "5/5 [==============================] - 0s 11ms/step - loss: 23.1468 - val_loss: 22.9428\n",
            "Epoch 27/200\n",
            "5/5 [==============================] - 0s 15ms/step - loss: 23.0753 - val_loss: 23.0807\n",
            "Epoch 28/200\n",
            "5/5 [==============================] - 0s 11ms/step - loss: 23.0711 - val_loss: 23.1380\n",
            "Epoch 29/200\n",
            "5/5 [==============================] - 0s 11ms/step - loss: 23.0654 - val_loss: 23.1371\n",
            "Epoch 30/200\n",
            "5/5 [==============================] - 0s 11ms/step - loss: 23.0638 - val_loss: 23.1476\n",
            "Epoch 31/200\n",
            "5/5 [==============================] - 0s 46ms/step - loss: 23.0639 - val_loss: 23.1367\n",
            "Epoch 32/200\n",
            "5/5 [==============================] - 0s 12ms/step - loss: 23.0653 - val_loss: 23.1084\n",
            "Epoch 33/200\n",
            "5/5 [==============================] - 0s 12ms/step - loss: 23.0648 - val_loss: 23.0896\n",
            "Epoch 34/200\n",
            "5/5 [==============================] - 0s 12ms/step - loss: 23.0643 - val_loss: 23.0400\n",
            "Epoch 35/200\n",
            "5/5 [==============================] - 0s 12ms/step - loss: 23.0848 - val_loss: 22.9892\n",
            "Epoch 36/200\n",
            "5/5 [==============================] - 0s 12ms/step - loss: 23.0936 - val_loss: 22.9658\n",
            "Epoch 37/200\n",
            "5/5 [==============================] - 0s 11ms/step - loss: 23.0869 - val_loss: 22.9601\n",
            "Epoch 38/200\n",
            "5/5 [==============================] - 0s 12ms/step - loss: 23.0698 - val_loss: 22.9677\n",
            "Epoch 39/200\n",
            "5/5 [==============================] - 0s 11ms/step - loss: 23.0488 - val_loss: 22.9890\n",
            "Epoch 40/200\n",
            "5/5 [==============================] - 0s 11ms/step - loss: 23.0672 - val_loss: 23.0726\n",
            "Epoch 41/200\n",
            "5/5 [==============================] - 0s 11ms/step - loss: 23.0789 - val_loss: 23.1185\n",
            "Epoch 42/200\n",
            "5/5 [==============================] - 0s 11ms/step - loss: 23.0809 - val_loss: 23.1069\n",
            "Epoch 43/200\n",
            "5/5 [==============================] - 0s 11ms/step - loss: 23.0746 - val_loss: 23.1152\n",
            "Epoch 44/200\n",
            "5/5 [==============================] - 0s 12ms/step - loss: 23.0746 - val_loss: 23.1361\n",
            "Epoch 45/200\n",
            "5/5 [==============================] - 0s 10ms/step - loss: 23.0774 - val_loss: 23.2191\n",
            "Epoch 46/200\n",
            "5/5 [==============================] - 0s 12ms/step - loss: 23.1018 - val_loss: 23.2642\n",
            "Epoch 47/200\n",
            "5/5 [==============================] - 0s 10ms/step - loss: 23.1048 - val_loss: 23.2312\n",
            "Epoch 48/200\n",
            "5/5 [==============================] - 0s 10ms/step - loss: 23.0950 - val_loss: 23.1638\n",
            "Epoch 49/200\n",
            "5/5 [==============================] - 0s 12ms/step - loss: 23.0818 - val_loss: 23.0786\n",
            "Epoch 50/200\n",
            "5/5 [==============================] - 0s 11ms/step - loss: 23.0572 - val_loss: 22.9812\n",
            "Epoch 51/200\n",
            "5/5 [==============================] - 0s 11ms/step - loss: 23.0525 - val_loss: 22.9012\n",
            "Epoch 52/200\n",
            "5/5 [==============================] - 0s 11ms/step - loss: 23.0436 - val_loss: 22.8433\n",
            "Epoch 53/200\n",
            "5/5 [==============================] - 0s 11ms/step - loss: 23.0633 - val_loss: 22.8117\n",
            "Epoch 54/200\n",
            "5/5 [==============================] - 0s 11ms/step - loss: 23.0594 - val_loss: 22.8184\n",
            "Epoch 55/200\n",
            "5/5 [==============================] - 0s 12ms/step - loss: 23.0553 - val_loss: 22.7978\n",
            "Epoch 56/200\n",
            "5/5 [==============================] - 0s 11ms/step - loss: 23.0683 - val_loss: 22.7766\n",
            "Epoch 57/200\n",
            "5/5 [==============================] - 0s 14ms/step - loss: 23.0813 - val_loss: 22.7666\n",
            "Epoch 58/200\n",
            "5/5 [==============================] - 0s 12ms/step - loss: 23.0864 - val_loss: 22.7489\n",
            "Epoch 59/200\n",
            "5/5 [==============================] - 0s 12ms/step - loss: 23.0947 - val_loss: 22.7422\n",
            "Epoch 60/200\n",
            "5/5 [==============================] - 0s 10ms/step - loss: 23.0775 - val_loss: 22.7510\n",
            "Epoch 61/200\n",
            "5/5 [==============================] - 0s 11ms/step - loss: 23.0584 - val_loss: 22.7419\n",
            "Epoch 62/200\n",
            "5/5 [==============================] - 0s 11ms/step - loss: 23.0473 - val_loss: 22.7211\n",
            "Epoch 63/200\n",
            "5/5 [==============================] - 0s 11ms/step - loss: 23.0484 - val_loss: 22.6983\n",
            "Epoch 64/200\n",
            "5/5 [==============================] - 0s 13ms/step - loss: 23.0214 - val_loss: 22.7697\n",
            "Epoch 65/200\n",
            "5/5 [==============================] - 0s 11ms/step - loss: 23.0360 - val_loss: 22.8027\n",
            "Epoch 66/200\n",
            "5/5 [==============================] - 0s 12ms/step - loss: 23.0395 - val_loss: 22.8338\n",
            "Epoch 67/200\n",
            "5/5 [==============================] - 0s 10ms/step - loss: 23.0370 - val_loss: 22.8214\n",
            "Epoch 68/200\n",
            "5/5 [==============================] - 0s 11ms/step - loss: 23.0382 - val_loss: 22.7972\n",
            "Epoch 69/200\n",
            "5/5 [==============================] - 0s 12ms/step - loss: 23.0337 - val_loss: 22.8036\n",
            "Epoch 70/200\n",
            "5/5 [==============================] - 0s 12ms/step - loss: 23.0422 - val_loss: 22.8796\n",
            "Epoch 71/200\n",
            "5/5 [==============================] - 0s 11ms/step - loss: 23.0420 - val_loss: 22.8968\n",
            "Epoch 72/200\n",
            "5/5 [==============================] - 0s 16ms/step - loss: 23.0289 - val_loss: 22.8315\n",
            "Epoch 73/200\n",
            "5/5 [==============================] - 0s 15ms/step - loss: 23.0243 - val_loss: 22.7816\n",
            "Epoch 74/200\n",
            "5/5 [==============================] - 0s 11ms/step - loss: 23.0341 - val_loss: 22.7587\n",
            "Epoch 75/200\n",
            "5/5 [==============================] - 0s 12ms/step - loss: 23.0322 - val_loss: 22.7457\n",
            "Epoch 76/200\n",
            "5/5 [==============================] - 0s 11ms/step - loss: 23.0317 - val_loss: 22.7497\n",
            "Epoch 77/200\n",
            "5/5 [==============================] - 0s 41ms/step - loss: 23.0285 - val_loss: 22.7939\n",
            "Epoch 78/200\n",
            "5/5 [==============================] - 0s 11ms/step - loss: 23.0277 - val_loss: 22.8432\n",
            "Epoch 79/200\n",
            "5/5 [==============================] - 0s 11ms/step - loss: 23.0285 - val_loss: 22.8668\n",
            "Epoch 80/200\n",
            "5/5 [==============================] - 0s 11ms/step - loss: 23.0320 - val_loss: 22.9219\n",
            "Epoch 81/200\n",
            "5/5 [==============================] - 0s 11ms/step - loss: 23.0465 - val_loss: 22.9620\n",
            "Epoch 82/200\n",
            "5/5 [==============================] - 0s 10ms/step - loss: 23.0300 - val_loss: 22.9378\n",
            "Epoch 83/200\n",
            "5/5 [==============================] - 0s 11ms/step - loss: 23.0276 - val_loss: 22.8987\n",
            "Epoch 84/200\n",
            "5/5 [==============================] - 0s 10ms/step - loss: 23.0220 - val_loss: 22.8887\n",
            "Epoch 85/200\n",
            "5/5 [==============================] - 0s 10ms/step - loss: 23.0158 - val_loss: 22.9255\n",
            "Epoch 86/200\n",
            "5/5 [==============================] - 0s 12ms/step - loss: 23.0239 - val_loss: 22.9288\n",
            "Epoch 87/200\n",
            "5/5 [==============================] - 0s 11ms/step - loss: 23.0303 - val_loss: 22.9093\n",
            "Epoch 88/200\n",
            "5/5 [==============================] - 0s 11ms/step - loss: 23.0256 - val_loss: 22.9135\n",
            "Epoch 89/200\n",
            "5/5 [==============================] - 0s 13ms/step - loss: 23.0227 - val_loss: 22.8916\n",
            "Epoch 90/200\n",
            "5/5 [==============================] - 0s 11ms/step - loss: 23.0223 - val_loss: 22.8598\n",
            "Epoch 91/200\n",
            "5/5 [==============================] - 0s 11ms/step - loss: 23.0197 - val_loss: 22.8727\n",
            "Epoch 92/200\n",
            "5/5 [==============================] - 0s 10ms/step - loss: 23.0204 - val_loss: 22.9036\n",
            "Epoch 93/200\n",
            "5/5 [==============================] - 0s 12ms/step - loss: 23.0354 - val_loss: 22.9577\n",
            "Epoch 94/200\n",
            "5/5 [==============================] - 0s 13ms/step - loss: 23.0397 - val_loss: 23.0043\n",
            "Epoch 95/200\n",
            "5/5 [==============================] - 0s 11ms/step - loss: 23.0811 - val_loss: 23.0650\n",
            "Epoch 96/200\n",
            "5/5 [==============================] - 0s 11ms/step - loss: 23.0741 - val_loss: 23.0715\n",
            "Epoch 97/200\n",
            "5/5 [==============================] - 0s 13ms/step - loss: 23.0745 - val_loss: 23.0465\n",
            "Epoch 98/200\n",
            "5/5 [==============================] - 0s 12ms/step - loss: 23.0547 - val_loss: 23.0184\n",
            "Epoch 99/200\n",
            "5/5 [==============================] - 0s 11ms/step - loss: 23.0473 - val_loss: 22.9962\n",
            "Epoch 100/200\n",
            "5/5 [==============================] - 0s 12ms/step - loss: 23.0338 - val_loss: 22.9603\n",
            "Epoch 101/200\n",
            "5/5 [==============================] - 0s 11ms/step - loss: 23.0174 - val_loss: 22.8959\n",
            "Epoch 102/200\n",
            "5/5 [==============================] - 0s 11ms/step - loss: 22.9940 - val_loss: 22.7920\n",
            "Epoch 103/200\n",
            "5/5 [==============================] - 0s 12ms/step - loss: 23.0324 - val_loss: 22.6838\n",
            "Epoch 104/200\n",
            "5/5 [==============================] - 0s 10ms/step - loss: 23.0362 - val_loss: 22.6395\n",
            "Epoch 105/200\n",
            "5/5 [==============================] - 0s 11ms/step - loss: 23.0755 - val_loss: 22.6374\n",
            "Epoch 106/200\n",
            "5/5 [==============================] - 0s 10ms/step - loss: 23.0625 - val_loss: 22.7036\n",
            "Epoch 107/200\n",
            "5/5 [==============================] - 0s 13ms/step - loss: 23.0545 - val_loss: 22.7697\n",
            "Epoch 108/200\n",
            "5/5 [==============================] - 0s 13ms/step - loss: 23.0201 - val_loss: 22.8020\n",
            "Epoch 109/200\n",
            "5/5 [==============================] - 0s 12ms/step - loss: 23.0149 - val_loss: 22.8340\n",
            "Epoch 110/200\n",
            "5/5 [==============================] - 0s 11ms/step - loss: 23.0157 - val_loss: 22.8726\n",
            "Epoch 111/200\n",
            "5/5 [==============================] - 0s 11ms/step - loss: 23.0091 - val_loss: 22.8624\n",
            "Epoch 112/200\n",
            "5/5 [==============================] - 0s 11ms/step - loss: 23.0079 - val_loss: 22.8443\n",
            "Epoch 113/200\n",
            "5/5 [==============================] - 0s 12ms/step - loss: 23.0002 - val_loss: 22.8213\n",
            "Epoch 114/200\n",
            "5/5 [==============================] - 0s 11ms/step - loss: 23.0067 - val_loss: 22.8015\n",
            "Epoch 115/200\n",
            "5/5 [==============================] - 0s 11ms/step - loss: 23.0103 - val_loss: 22.7672\n",
            "Epoch 116/200\n",
            "5/5 [==============================] - 0s 10ms/step - loss: 23.0112 - val_loss: 22.7654\n",
            "Epoch 117/200\n",
            "5/5 [==============================] - 0s 11ms/step - loss: 23.0382 - val_loss: 22.8115\n",
            "Epoch 118/200\n",
            "5/5 [==============================] - 0s 11ms/step - loss: 23.0043 - val_loss: 22.8192\n",
            "Epoch 119/200\n",
            "5/5 [==============================] - 0s 12ms/step - loss: 23.0017 - val_loss: 22.8411\n",
            "Epoch 120/200\n",
            "5/5 [==============================] - 0s 11ms/step - loss: 23.0015 - val_loss: 22.9032\n",
            "Epoch 121/200\n",
            "5/5 [==============================] - 0s 11ms/step - loss: 23.0199 - val_loss: 22.9260\n",
            "Epoch 122/200\n",
            "5/5 [==============================] - 0s 11ms/step - loss: 23.0142 - val_loss: 22.9206\n",
            "Epoch 123/200\n",
            "5/5 [==============================] - 0s 12ms/step - loss: 23.0115 - val_loss: 22.9137\n",
            "Epoch 124/200\n",
            "5/5 [==============================] - 0s 10ms/step - loss: 23.0072 - val_loss: 22.8980\n",
            "Epoch 125/200\n",
            "5/5 [==============================] - 0s 11ms/step - loss: 22.9919 - val_loss: 22.8379\n",
            "Epoch 126/200\n",
            "5/5 [==============================] - 0s 12ms/step - loss: 22.9936 - val_loss: 22.7738\n",
            "Epoch 127/200\n",
            "5/5 [==============================] - 0s 13ms/step - loss: 23.0173 - val_loss: 22.7465\n",
            "Epoch 128/200\n",
            "5/5 [==============================] - 0s 11ms/step - loss: 23.0086 - val_loss: 22.7564\n",
            "Epoch 129/200\n",
            "5/5 [==============================] - 0s 10ms/step - loss: 23.0066 - val_loss: 22.7571\n",
            "Epoch 130/200\n",
            "5/5 [==============================] - 0s 10ms/step - loss: 23.0037 - val_loss: 22.7489\n",
            "Epoch 131/200\n",
            "5/5 [==============================] - 0s 12ms/step - loss: 23.0048 - val_loss: 22.7386\n",
            "Epoch 132/200\n",
            "5/5 [==============================] - 0s 12ms/step - loss: 23.0116 - val_loss: 22.7200\n",
            "Epoch 133/200\n",
            "5/5 [==============================] - 0s 42ms/step - loss: 23.0272 - val_loss: 22.7012\n",
            "Epoch 134/200\n",
            "5/5 [==============================] - 0s 11ms/step - loss: 23.0271 - val_loss: 22.6843\n",
            "Epoch 135/200\n",
            "5/5 [==============================] - 0s 11ms/step - loss: 23.0244 - val_loss: 22.6770\n",
            "Epoch 136/200\n",
            "5/5 [==============================] - 0s 12ms/step - loss: 23.0115 - val_loss: 22.7015\n",
            "Epoch 137/200\n",
            "5/5 [==============================] - 0s 11ms/step - loss: 22.9861 - val_loss: 22.7804\n",
            "Epoch 138/200\n",
            "5/5 [==============================] - 0s 11ms/step - loss: 22.9920 - val_loss: 22.7797\n",
            "Epoch 139/200\n",
            "5/5 [==============================] - 0s 11ms/step - loss: 22.9974 - val_loss: 22.7279\n",
            "Epoch 140/200\n",
            "5/5 [==============================] - 0s 11ms/step - loss: 23.0062 - val_loss: 22.6774\n",
            "Epoch 141/200\n",
            "5/5 [==============================] - 0s 12ms/step - loss: 22.9973 - val_loss: 22.6443\n",
            "Epoch 142/200\n",
            "5/5 [==============================] - 0s 11ms/step - loss: 23.0245 - val_loss: 22.5860\n",
            "Epoch 143/200\n",
            "5/5 [==============================] - 0s 13ms/step - loss: 22.9988 - val_loss: 22.5895\n",
            "Epoch 144/200\n",
            "5/5 [==============================] - 0s 15ms/step - loss: 23.0024 - val_loss: 22.6230\n",
            "Epoch 145/200\n",
            "5/5 [==============================] - 0s 12ms/step - loss: 22.9881 - val_loss: 22.6273\n",
            "Epoch 146/200\n",
            "5/5 [==============================] - 0s 11ms/step - loss: 22.9899 - val_loss: 22.6169\n",
            "Epoch 147/200\n",
            "5/5 [==============================] - 0s 13ms/step - loss: 22.9883 - val_loss: 22.5949\n",
            "Epoch 148/200\n",
            "5/5 [==============================] - 0s 14ms/step - loss: 22.9808 - val_loss: 22.5620\n",
            "Epoch 149/200\n",
            "5/5 [==============================] - 0s 12ms/step - loss: 22.9894 - val_loss: 22.5080\n",
            "Epoch 150/200\n",
            "5/5 [==============================] - 0s 13ms/step - loss: 23.0362 - val_loss: 22.4694\n",
            "Epoch 151/200\n",
            "5/5 [==============================] - 0s 12ms/step - loss: 23.0491 - val_loss: 22.4410\n",
            "Epoch 152/200\n",
            "5/5 [==============================] - 0s 11ms/step - loss: 23.0558 - val_loss: 22.4226\n",
            "Epoch 153/200\n",
            "5/5 [==============================] - 0s 11ms/step - loss: 23.0607 - val_loss: 22.4252\n",
            "Epoch 154/200\n",
            "5/5 [==============================] - 0s 12ms/step - loss: 23.0567 - val_loss: 22.4262\n",
            "Epoch 155/200\n",
            "5/5 [==============================] - 0s 15ms/step - loss: 23.0451 - val_loss: 22.4482\n",
            "Epoch 156/200\n",
            "5/5 [==============================] - 0s 12ms/step - loss: 23.0086 - val_loss: 22.4676\n",
            "Epoch 157/200\n",
            "5/5 [==============================] - 0s 13ms/step - loss: 22.9945 - val_loss: 22.4783\n",
            "Epoch 158/200\n",
            "5/5 [==============================] - 0s 12ms/step - loss: 22.9921 - val_loss: 22.4682\n",
            "Epoch 159/200\n",
            "5/5 [==============================] - 0s 13ms/step - loss: 22.9952 - val_loss: 22.4372\n",
            "Epoch 160/200\n",
            "5/5 [==============================] - 0s 11ms/step - loss: 23.0000 - val_loss: 22.4283\n",
            "Epoch 161/200\n",
            "5/5 [==============================] - 0s 11ms/step - loss: 23.0177 - val_loss: 22.4151\n",
            "Epoch 162/200\n",
            "5/5 [==============================] - 0s 11ms/step - loss: 23.0309 - val_loss: 22.4170\n",
            "Epoch 163/200\n",
            "5/5 [==============================] - 0s 12ms/step - loss: 23.0381 - val_loss: 22.4304\n",
            "Epoch 164/200\n",
            "5/5 [==============================] - 0s 11ms/step - loss: 23.0480 - val_loss: 22.4261\n",
            "Epoch 165/200\n",
            "5/5 [==============================] - 0s 15ms/step - loss: 23.0535 - val_loss: 22.4253\n",
            "Epoch 166/200\n",
            "5/5 [==============================] - 0s 12ms/step - loss: 23.0558 - val_loss: 22.4145\n",
            "Epoch 167/200\n",
            "5/5 [==============================] - 0s 12ms/step - loss: 23.0913 - val_loss: 22.3773\n",
            "Epoch 168/200\n",
            "5/5 [==============================] - 0s 12ms/step - loss: 23.0996 - val_loss: 22.3669\n",
            "Epoch 169/200\n",
            "5/5 [==============================] - 0s 11ms/step - loss: 23.1009 - val_loss: 22.3613\n",
            "Epoch 170/200\n",
            "5/5 [==============================] - 0s 13ms/step - loss: 23.0742 - val_loss: 22.3593\n",
            "Epoch 171/200\n",
            "5/5 [==============================] - 0s 12ms/step - loss: 23.0429 - val_loss: 22.3535\n",
            "Epoch 172/200\n",
            "5/5 [==============================] - 0s 11ms/step - loss: 23.0232 - val_loss: 22.3669\n",
            "Epoch 173/200\n",
            "5/5 [==============================] - 0s 13ms/step - loss: 23.0087 - val_loss: 22.3747\n",
            "Epoch 174/200\n",
            "5/5 [==============================] - 0s 12ms/step - loss: 22.9987 - val_loss: 22.3810\n",
            "Epoch 175/200\n",
            "5/5 [==============================] - 0s 11ms/step - loss: 23.0048 - val_loss: 22.3682\n",
            "Epoch 176/200\n",
            "5/5 [==============================] - 0s 14ms/step - loss: 22.9999 - val_loss: 22.4163\n",
            "Epoch 177/200\n",
            "5/5 [==============================] - 0s 12ms/step - loss: 22.9926 - val_loss: 22.4138\n",
            "Epoch 178/200\n",
            "5/5 [==============================] - 0s 11ms/step - loss: 22.9938 - val_loss: 22.3946\n",
            "Epoch 179/200\n",
            "5/5 [==============================] - 0s 12ms/step - loss: 22.9937 - val_loss: 22.3839\n",
            "Epoch 180/200\n",
            "5/5 [==============================] - 0s 45ms/step - loss: 22.9888 - val_loss: 22.3805\n",
            "Epoch 181/200\n",
            "5/5 [==============================] - 0s 13ms/step - loss: 22.9947 - val_loss: 22.3443\n",
            "Epoch 182/200\n",
            "5/5 [==============================] - 0s 12ms/step - loss: 22.9924 - val_loss: 22.3252\n",
            "Epoch 183/200\n",
            "5/5 [==============================] - 0s 12ms/step - loss: 23.0040 - val_loss: 22.3108\n",
            "Epoch 184/200\n",
            "5/5 [==============================] - 0s 12ms/step - loss: 23.0020 - val_loss: 22.3129\n",
            "Epoch 185/200\n",
            "5/5 [==============================] - 0s 12ms/step - loss: 22.9971 - val_loss: 22.2750\n",
            "Epoch 186/200\n",
            "5/5 [==============================] - 0s 11ms/step - loss: 23.0011 - val_loss: 22.2616\n",
            "Epoch 187/200\n",
            "5/5 [==============================] - 0s 11ms/step - loss: 22.9870 - val_loss: 22.2803\n",
            "Epoch 188/200\n",
            "5/5 [==============================] - 0s 12ms/step - loss: 22.9840 - val_loss: 22.2911\n",
            "Epoch 189/200\n",
            "5/5 [==============================] - 0s 13ms/step - loss: 22.9799 - val_loss: 22.2716\n",
            "Epoch 190/200\n",
            "5/5 [==============================] - 0s 12ms/step - loss: 23.0066 - val_loss: 22.2076\n",
            "Epoch 191/200\n",
            "5/5 [==============================] - 0s 11ms/step - loss: 23.0084 - val_loss: 22.1796\n",
            "Epoch 192/200\n",
            "5/5 [==============================] - 0s 11ms/step - loss: 23.0197 - val_loss: 22.2011\n",
            "Epoch 193/200\n",
            "5/5 [==============================] - 0s 11ms/step - loss: 23.0131 - val_loss: 22.2472\n",
            "Epoch 194/200\n",
            "5/5 [==============================] - 0s 13ms/step - loss: 22.9781 - val_loss: 22.3047\n",
            "Epoch 195/200\n",
            "5/5 [==============================] - 0s 14ms/step - loss: 22.9630 - val_loss: 22.3837\n",
            "Epoch 196/200\n",
            "5/5 [==============================] - 0s 12ms/step - loss: 22.9851 - val_loss: 22.4383\n",
            "Epoch 197/200\n",
            "5/5 [==============================] - 0s 11ms/step - loss: 22.9762 - val_loss: 22.4300\n",
            "Epoch 198/200\n",
            "5/5 [==============================] - 0s 12ms/step - loss: 22.9675 - val_loss: 22.4346\n",
            "Epoch 199/200\n",
            "5/5 [==============================] - 0s 13ms/step - loss: 22.9706 - val_loss: 22.4749\n",
            "Epoch 200/200\n",
            "5/5 [==============================] - 0s 14ms/step - loss: 22.9684 - val_loss: 22.4694\n"
          ],
          "name": "stdout"
        },
        {
          "output_type": "execute_result",
          "data": {
            "text/plain": [
              "<tensorflow.python.keras.callbacks.History at 0x7f80516e66a0>"
            ]
          },
          "metadata": {
            "tags": []
          },
          "execution_count": 62
        }
      ]
    },
    {
      "cell_type": "markdown",
      "metadata": {
        "id": "xqf1fjqvPEF-"
      },
      "source": [
        "### plot model history"
      ]
    },
    {
      "cell_type": "code",
      "metadata": {
        "id": "gH0wn-xUrbq-"
      },
      "source": [
        ""
      ],
      "execution_count": null,
      "outputs": []
    },
    {
      "cell_type": "code",
      "metadata": {
        "id": "sfOa85eSPEF-"
      },
      "source": [
        "model_loss_history = pd.DataFrame(regression_model.history.history)"
      ],
      "execution_count": null,
      "outputs": []
    },
    {
      "cell_type": "code",
      "metadata": {
        "scrolled": true,
        "colab": {
          "base_uri": "https://localhost:8080/",
          "height": 284
        },
        "id": "iZAk95nsPEGA",
        "outputId": "fd72f34e-719b-4791-eac3-10678890b36d"
      },
      "source": [
        "model_loss_history.plot()"
      ],
      "execution_count": null,
      "outputs": [
        {
          "output_type": "execute_result",
          "data": {
            "text/plain": [
              "<matplotlib.axes._subplots.AxesSubplot at 0x7f805891a198>"
            ]
          },
          "metadata": {
            "tags": []
          },
          "execution_count": 64
        },
        {
          "output_type": "display_data",
          "data": {
            "image/png": "[encoded data removed]",
            "text/plain": [
              "<Figure size 432x288 with 1 Axes>"
            ]
          },
          "metadata": {
            "tags": [],
            "needs_background": "light"
          }
        }
      ]
    },
    {
      "cell_type": "markdown",
      "metadata": {
        "id": "MNUkG2LTPEGA"
      },
      "source": [
        "## Evaluate the model"
      ]
    },
    {
      "cell_type": "code",
      "metadata": {
        "colab": {
          "base_uri": "https://localhost:8080/"
        },
        "id": "x7UQDbAePEGB",
        "outputId": "4f4c7e48-3d86-4748-89b3-a4230c35c7e6"
      },
      "source": [
        "predictions = regression_model.predict(test_data, batch_size=16)\n",
        "predictions[1], test_labels[1]"
      ],
      "execution_count": null,
      "outputs": [
        {
          "output_type": "execute_result",
          "data": {
            "text/plain": [
              "(array([20.84252], dtype=float32), array([18.8]))"
            ]
          },
          "metadata": {
            "tags": []
          },
          "execution_count": 67
        }
      ]
    },
    {
      "cell_type": "code",
      "metadata": {
        "id": "R7toUvAzPEGE",
        "colab": {
          "base_uri": "https://localhost:8080/"
        },
        "outputId": "0fa7ec09-c47c-4123-9054-ba7a8e6b692f"
      },
      "source": [
        "len(predictions)"
      ],
      "execution_count": null,
      "outputs": [
        {
          "output_type": "execute_result",
          "data": {
            "text/plain": [
              "102"
            ]
          },
          "metadata": {
            "tags": []
          },
          "execution_count": 33
        }
      ]
    },
    {
      "cell_type": "code",
      "metadata": {
        "colab": {
          "base_uri": "https://localhost:8080/"
        },
        "id": "XcbCqQEvPEGE",
        "outputId": "6445cb9e-0917-4c2d-9b5c-99889b423a5c"
      },
      "source": [
        "errors = 0.0\n",
        "for idx in range(len(predictions)):\n",
        "    if abs(predictions[idx] - test_labels[idx]) > 5.0:\n",
        "        errors += 1.0\n",
        "        \n",
        "1 - (errors / len(predictions))        "
      ],
      "execution_count": null,
      "outputs": [
        {
          "output_type": "execute_result",
          "data": {
            "text/plain": [
              "0.8137254901960784"
            ]
          },
          "metadata": {
            "tags": []
          },
          "execution_count": 78
        }
      ]
    },
    {
      "cell_type": "markdown",
      "metadata": {
        "id": "RCh4ZaC-PEGI"
      },
      "source": [
        "# Creating another regression model with more hidden layer"
      ]
    },
    {
      "cell_type": "markdown",
      "metadata": {
        "id": "1fBBr9LOPEGK"
      },
      "source": [
        "### import layers and model"
      ]
    },
    {
      "cell_type": "code",
      "metadata": {
        "id": "kBerFlHMPEGK"
      },
      "source": [
        "from tensorflow.keras.layers import Input, Dense\n",
        "from tensorflow.keras.models import Model"
      ],
      "execution_count": null,
      "outputs": []
    },
    {
      "cell_type": "markdown",
      "metadata": {
        "id": "uIUPld-tPEGK"
      },
      "source": [
        "### create the model"
      ]
    },
    {
      "cell_type": "code",
      "metadata": {
        "id": "dplDxJIFPEGM"
      },
      "source": [
        "input_layer = Input((13, ))\n",
        "first_hidden_layer = Dense(units=13, activation='relu')(input_layer)\n",
        "second_hidden_layer = Dense(units=8, activation='relu')(first_hidden_layer)\n",
        "third_hidden_layer = Dense(units=4, activation='relu')(second_hidden_layer)\n",
        "prediction = Dense(units=1)(third_hidden_layer)\n",
        "\n",
        "regression_model_2 = Model(input_layer, prediction)"
      ],
      "execution_count": null,
      "outputs": []
    },
    {
      "cell_type": "markdown",
      "metadata": {
        "id": "m4Na5YAPPEGN"
      },
      "source": [
        "### print summary of the model"
      ]
    },
    {
      "cell_type": "code",
      "metadata": {
        "id": "FJAFvlTvPEGO",
        "colab": {
          "base_uri": "https://localhost:8080/"
        },
        "outputId": "6c2d5b36-6105-46de-f998-fec905a6d36b"
      },
      "source": [
        "regression_model_2.summary()"
      ],
      "execution_count": null,
      "outputs": [
        {
          "output_type": "stream",
          "text": [
            "Model: \"model_3\"\n",
            "_________________________________________________________________\n",
            "Layer (type)                 Output Shape              Param #   \n",
            "=================================================================\n",
            "input_4 (InputLayer)         [(None, 13)]              0         \n",
            "_________________________________________________________________\n",
            "dense_10 (Dense)             (None, 13)                182       \n",
            "_________________________________________________________________\n",
            "dense_11 (Dense)             (None, 8)                 112       \n",
            "_________________________________________________________________\n",
            "dense_12 (Dense)             (None, 4)                 36        \n",
            "_________________________________________________________________\n",
            "dense_13 (Dense)             (None, 1)                 5         \n",
            "=================================================================\n",
            "Total params: 335\n",
            "Trainable params: 335\n",
            "Non-trainable params: 0\n",
            "_________________________________________________________________\n"
          ],
          "name": "stdout"
        }
      ]
    },
    {
      "cell_type": "markdown",
      "metadata": {
        "id": "gtLiNjBzPEGO"
      },
      "source": [
        "## Compile the model with optimizer and loss function"
      ]
    },
    {
      "cell_type": "code",
      "metadata": {
        "id": "yML17g6ePEGQ"
      },
      "source": [
        "from tensorflow.keras.optimizers import SGD, Adam"
      ],
      "execution_count": null,
      "outputs": []
    },
    {
      "cell_type": "code",
      "metadata": {
        "id": "q4PYNbp4PEGQ"
      },
      "source": [
        "regression_model_2.compile(optimizer='adam', loss='mse')"
      ],
      "execution_count": null,
      "outputs": []
    },
    {
      "cell_type": "markdown",
      "metadata": {
        "id": "-C82K236PEGR"
      },
      "source": [
        "## Now we can train the model"
      ]
    },
    {
      "cell_type": "code",
      "metadata": {
        "id": "UiWM6isCPEGR",
        "colab": {
          "base_uri": "https://localhost:8080/"
        },
        "outputId": "085d7f8b-b041-43a3-e193-6d5d88e6ece1"
      },
      "source": [
        "regression_model_2.fit(x=train_data, y=train_labels, batch_size=8, epochs=200, validation_data=(test_data, test_labels))"
      ],
      "execution_count": null,
      "outputs": [
        {
          "output_type": "stream",
          "text": [
            "Epoch 1/200\n",
            "51/51 [==============================] - 1s 4ms/step - loss: 586.9650 - val_loss: 571.6182\n",
            "Epoch 2/200\n",
            "51/51 [==============================] - 0s 2ms/step - loss: 507.9428 - val_loss: 431.8904\n",
            "Epoch 3/200\n",
            "51/51 [==============================] - 0s 2ms/step - loss: 376.0801 - val_loss: 251.8058\n",
            "Epoch 4/200\n",
            "51/51 [==============================] - 0s 2ms/step - loss: 194.4432 - val_loss: 154.4199\n",
            "Epoch 5/200\n",
            "51/51 [==============================] - 0s 2ms/step - loss: 143.6406 - val_loss: 131.9382\n",
            "Epoch 6/200\n",
            "51/51 [==============================] - 0s 2ms/step - loss: 128.2536 - val_loss: 114.9745\n",
            "Epoch 7/200\n",
            "51/51 [==============================] - 0s 2ms/step - loss: 115.1467 - val_loss: 100.4426\n",
            "Epoch 8/200\n",
            "51/51 [==============================] - 0s 2ms/step - loss: 87.6157 - val_loss: 88.1264\n",
            "Epoch 9/200\n",
            "51/51 [==============================] - 0s 2ms/step - loss: 75.7498 - val_loss: 77.2953\n",
            "Epoch 10/200\n",
            "51/51 [==============================] - 0s 2ms/step - loss: 64.7582 - val_loss: 68.4728\n",
            "Epoch 11/200\n",
            "51/51 [==============================] - 0s 2ms/step - loss: 58.0431 - val_loss: 61.6650\n",
            "Epoch 12/200\n",
            "51/51 [==============================] - 0s 2ms/step - loss: 53.9599 - val_loss: 56.4637\n",
            "Epoch 13/200\n",
            "51/51 [==============================] - 0s 2ms/step - loss: 52.8630 - val_loss: 52.2934\n",
            "Epoch 14/200\n",
            "51/51 [==============================] - 0s 2ms/step - loss: 45.4333 - val_loss: 49.5073\n",
            "Epoch 15/200\n",
            "51/51 [==============================] - 0s 2ms/step - loss: 44.0179 - val_loss: 46.7891\n",
            "Epoch 16/200\n",
            "51/51 [==============================] - 0s 2ms/step - loss: 47.0707 - val_loss: 44.9170\n",
            "Epoch 17/200\n",
            "51/51 [==============================] - 0s 2ms/step - loss: 44.8542 - val_loss: 43.1898\n",
            "Epoch 18/200\n",
            "51/51 [==============================] - 0s 2ms/step - loss: 34.9347 - val_loss: 41.4446\n",
            "Epoch 19/200\n",
            "51/51 [==============================] - 0s 2ms/step - loss: 48.5428 - val_loss: 40.3523\n",
            "Epoch 20/200\n",
            "51/51 [==============================] - 0s 2ms/step - loss: 35.4732 - val_loss: 38.5258\n",
            "Epoch 21/200\n",
            "51/51 [==============================] - 0s 2ms/step - loss: 45.6040 - val_loss: 37.6259\n",
            "Epoch 22/200\n",
            "51/51 [==============================] - 0s 2ms/step - loss: 41.0789 - val_loss: 36.1391\n",
            "Epoch 23/200\n",
            "51/51 [==============================] - 0s 4ms/step - loss: 37.5024 - val_loss: 35.1466\n",
            "Epoch 24/200\n",
            "51/51 [==============================] - 0s 2ms/step - loss: 32.7594 - val_loss: 33.9953\n",
            "Epoch 25/200\n",
            "51/51 [==============================] - 0s 2ms/step - loss: 31.4294 - val_loss: 32.8756\n",
            "Epoch 26/200\n",
            "51/51 [==============================] - 0s 2ms/step - loss: 34.8482 - val_loss: 32.0175\n",
            "Epoch 27/200\n",
            "51/51 [==============================] - 0s 2ms/step - loss: 28.4302 - val_loss: 31.0678\n",
            "Epoch 28/200\n",
            "51/51 [==============================] - 0s 2ms/step - loss: 33.0613 - val_loss: 30.4376\n",
            "Epoch 29/200\n",
            "51/51 [==============================] - 0s 2ms/step - loss: 23.9345 - val_loss: 29.6324\n",
            "Epoch 30/200\n",
            "51/51 [==============================] - 0s 2ms/step - loss: 25.4582 - val_loss: 28.6984\n",
            "Epoch 31/200\n",
            "51/51 [==============================] - 0s 2ms/step - loss: 28.3790 - val_loss: 27.9265\n",
            "Epoch 32/200\n",
            "51/51 [==============================] - 0s 2ms/step - loss: 21.1373 - val_loss: 27.7449\n",
            "Epoch 33/200\n",
            "51/51 [==============================] - 0s 2ms/step - loss: 23.4934 - val_loss: 27.0423\n",
            "Epoch 34/200\n",
            "51/51 [==============================] - 0s 2ms/step - loss: 23.7630 - val_loss: 26.5463\n",
            "Epoch 35/200\n",
            "51/51 [==============================] - 0s 2ms/step - loss: 21.4566 - val_loss: 26.4676\n",
            "Epoch 36/200\n",
            "51/51 [==============================] - 0s 2ms/step - loss: 27.4743 - val_loss: 26.0884\n",
            "Epoch 37/200\n",
            "51/51 [==============================] - 0s 2ms/step - loss: 26.1736 - val_loss: 25.6887\n",
            "Epoch 38/200\n",
            "51/51 [==============================] - 0s 2ms/step - loss: 21.9003 - val_loss: 25.2780\n",
            "Epoch 39/200\n",
            "51/51 [==============================] - 0s 2ms/step - loss: 25.2180 - val_loss: 25.0253\n",
            "Epoch 40/200\n",
            "51/51 [==============================] - 0s 2ms/step - loss: 27.4316 - val_loss: 25.2152\n",
            "Epoch 41/200\n",
            "51/51 [==============================] - 0s 2ms/step - loss: 29.0098 - val_loss: 24.8396\n",
            "Epoch 42/200\n",
            "51/51 [==============================] - 0s 2ms/step - loss: 22.1963 - val_loss: 24.8173\n",
            "Epoch 43/200\n",
            "51/51 [==============================] - 0s 2ms/step - loss: 18.0993 - val_loss: 24.7775\n",
            "Epoch 44/200\n",
            "51/51 [==============================] - 0s 2ms/step - loss: 18.7680 - val_loss: 24.8653\n",
            "Epoch 45/200\n",
            "51/51 [==============================] - 0s 2ms/step - loss: 16.5217 - val_loss: 24.7190\n",
            "Epoch 46/200\n",
            "51/51 [==============================] - 0s 2ms/step - loss: 18.1336 - val_loss: 24.7655\n",
            "Epoch 47/200\n",
            "51/51 [==============================] - 0s 2ms/step - loss: 18.7436 - val_loss: 24.4721\n",
            "Epoch 48/200\n",
            "51/51 [==============================] - 0s 2ms/step - loss: 17.5588 - val_loss: 24.5012\n",
            "Epoch 49/200\n",
            "51/51 [==============================] - 0s 2ms/step - loss: 21.0437 - val_loss: 24.5830\n",
            "Epoch 50/200\n",
            "51/51 [==============================] - 0s 2ms/step - loss: 16.6887 - val_loss: 24.5757\n",
            "Epoch 51/200\n",
            "51/51 [==============================] - 0s 2ms/step - loss: 25.2499 - val_loss: 24.5187\n",
            "Epoch 52/200\n",
            "51/51 [==============================] - 0s 2ms/step - loss: 18.1222 - val_loss: 24.6511\n",
            "Epoch 53/200\n",
            "51/51 [==============================] - 0s 2ms/step - loss: 16.5565 - val_loss: 24.4190\n",
            "Epoch 54/200\n",
            "51/51 [==============================] - 0s 2ms/step - loss: 21.1985 - val_loss: 24.6551\n",
            "Epoch 55/200\n",
            "51/51 [==============================] - 0s 2ms/step - loss: 16.2570 - val_loss: 26.4047\n",
            "Epoch 56/200\n",
            "51/51 [==============================] - 0s 2ms/step - loss: 19.3429 - val_loss: 24.9290\n",
            "Epoch 57/200\n",
            "51/51 [==============================] - 0s 2ms/step - loss: 16.8830 - val_loss: 24.9007\n",
            "Epoch 58/200\n",
            "51/51 [==============================] - 0s 2ms/step - loss: 17.1449 - val_loss: 24.5572\n",
            "Epoch 59/200\n",
            "51/51 [==============================] - 0s 2ms/step - loss: 16.9055 - val_loss: 25.2571\n",
            "Epoch 60/200\n",
            "51/51 [==============================] - 0s 2ms/step - loss: 13.9038 - val_loss: 25.1819\n",
            "Epoch 61/200\n",
            "51/51 [==============================] - 0s 2ms/step - loss: 14.8751 - val_loss: 24.7793\n",
            "Epoch 62/200\n",
            "51/51 [==============================] - 0s 2ms/step - loss: 15.0611 - val_loss: 25.0647\n",
            "Epoch 63/200\n",
            "51/51 [==============================] - 0s 2ms/step - loss: 24.1735 - val_loss: 24.8242\n",
            "Epoch 64/200\n",
            "51/51 [==============================] - 0s 2ms/step - loss: 17.7230 - val_loss: 25.7579\n",
            "Epoch 65/200\n",
            "51/51 [==============================] - 0s 2ms/step - loss: 16.1818 - val_loss: 25.2263\n",
            "Epoch 66/200\n",
            "51/51 [==============================] - 0s 2ms/step - loss: 16.1482 - val_loss: 25.5674\n",
            "Epoch 67/200\n",
            "51/51 [==============================] - 0s 2ms/step - loss: 15.9618 - val_loss: 25.9517\n",
            "Epoch 68/200\n",
            "51/51 [==============================] - 0s 2ms/step - loss: 16.4570 - val_loss: 26.0731\n",
            "Epoch 69/200\n",
            "51/51 [==============================] - 0s 2ms/step - loss: 15.7227 - val_loss: 25.8159\n",
            "Epoch 70/200\n",
            "51/51 [==============================] - 0s 2ms/step - loss: 18.5135 - val_loss: 25.0025\n",
            "Epoch 71/200\n",
            "51/51 [==============================] - 0s 4ms/step - loss: 15.0251 - val_loss: 25.5327\n",
            "Epoch 72/200\n",
            "51/51 [==============================] - 0s 2ms/step - loss: 15.9209 - val_loss: 25.5856\n",
            "Epoch 73/200\n",
            "51/51 [==============================] - 0s 2ms/step - loss: 17.7490 - val_loss: 25.5141\n",
            "Epoch 74/200\n",
            "51/51 [==============================] - 0s 2ms/step - loss: 12.7307 - val_loss: 25.5874\n",
            "Epoch 75/200\n",
            "51/51 [==============================] - 0s 2ms/step - loss: 13.6337 - val_loss: 25.5027\n",
            "Epoch 76/200\n",
            "51/51 [==============================] - 0s 2ms/step - loss: 14.7742 - val_loss: 26.7248\n",
            "Epoch 77/200\n",
            "51/51 [==============================] - 0s 2ms/step - loss: 16.3853 - val_loss: 25.8941\n",
            "Epoch 78/200\n",
            "51/51 [==============================] - 0s 2ms/step - loss: 13.2815 - val_loss: 25.7555\n",
            "Epoch 79/200\n",
            "51/51 [==============================] - 0s 2ms/step - loss: 16.3936 - val_loss: 26.9347\n",
            "Epoch 80/200\n",
            "51/51 [==============================] - 0s 2ms/step - loss: 12.4094 - val_loss: 26.1316\n",
            "Epoch 81/200\n",
            "51/51 [==============================] - 0s 2ms/step - loss: 13.4840 - val_loss: 26.1232\n",
            "Epoch 82/200\n",
            "51/51 [==============================] - 0s 2ms/step - loss: 16.2919 - val_loss: 26.1257\n",
            "Epoch 83/200\n",
            "51/51 [==============================] - 0s 2ms/step - loss: 11.9240 - val_loss: 26.4604\n",
            "Epoch 84/200\n",
            "51/51 [==============================] - 0s 2ms/step - loss: 16.5929 - val_loss: 25.8950\n",
            "Epoch 85/200\n",
            "51/51 [==============================] - 0s 2ms/step - loss: 12.1597 - val_loss: 26.3704\n",
            "Epoch 86/200\n",
            "51/51 [==============================] - 0s 2ms/step - loss: 12.9223 - val_loss: 26.1216\n",
            "Epoch 87/200\n",
            "51/51 [==============================] - 0s 2ms/step - loss: 15.2042 - val_loss: 26.0821\n",
            "Epoch 88/200\n",
            "51/51 [==============================] - 0s 2ms/step - loss: 11.3610 - val_loss: 25.9904\n",
            "Epoch 89/200\n",
            "51/51 [==============================] - 0s 2ms/step - loss: 12.0215 - val_loss: 26.8378\n",
            "Epoch 90/200\n",
            "51/51 [==============================] - 0s 2ms/step - loss: 13.8572 - val_loss: 26.0516\n",
            "Epoch 91/200\n",
            "51/51 [==============================] - 0s 2ms/step - loss: 18.6496 - val_loss: 25.4789\n",
            "Epoch 92/200\n",
            "51/51 [==============================] - 0s 2ms/step - loss: 12.1651 - val_loss: 25.6644\n",
            "Epoch 93/200\n",
            "51/51 [==============================] - 0s 2ms/step - loss: 11.5336 - val_loss: 26.4568\n",
            "Epoch 94/200\n",
            "51/51 [==============================] - 0s 2ms/step - loss: 13.8163 - val_loss: 25.9956\n",
            "Epoch 95/200\n",
            "51/51 [==============================] - 0s 2ms/step - loss: 12.2445 - val_loss: 26.0446\n",
            "Epoch 96/200\n",
            "51/51 [==============================] - 0s 2ms/step - loss: 10.7209 - val_loss: 25.7087\n",
            "Epoch 97/200\n",
            "51/51 [==============================] - 0s 2ms/step - loss: 10.3881 - val_loss: 26.8943\n",
            "Epoch 98/200\n",
            "51/51 [==============================] - 0s 2ms/step - loss: 11.9268 - val_loss: 26.0136\n",
            "Epoch 99/200\n",
            "51/51 [==============================] - 0s 2ms/step - loss: 10.8640 - val_loss: 25.9474\n",
            "Epoch 100/200\n",
            "51/51 [==============================] - 0s 2ms/step - loss: 9.8980 - val_loss: 26.3177\n",
            "Epoch 101/200\n",
            "51/51 [==============================] - 0s 2ms/step - loss: 12.4931 - val_loss: 26.2561\n",
            "Epoch 102/200\n",
            "51/51 [==============================] - 0s 2ms/step - loss: 10.5207 - val_loss: 26.2093\n",
            "Epoch 103/200\n",
            "51/51 [==============================] - 0s 2ms/step - loss: 11.0540 - val_loss: 26.4250\n",
            "Epoch 104/200\n",
            "51/51 [==============================] - 0s 2ms/step - loss: 11.6700 - val_loss: 25.7208\n",
            "Epoch 105/200\n",
            "51/51 [==============================] - 0s 2ms/step - loss: 11.4599 - val_loss: 26.0737\n",
            "Epoch 106/200\n",
            "51/51 [==============================] - 0s 2ms/step - loss: 11.0734 - val_loss: 27.7628\n",
            "Epoch 107/200\n",
            "51/51 [==============================] - 0s 2ms/step - loss: 11.6447 - val_loss: 26.6550\n",
            "Epoch 108/200\n",
            "51/51 [==============================] - 0s 2ms/step - loss: 10.7355 - val_loss: 26.5169\n",
            "Epoch 109/200\n",
            "51/51 [==============================] - 0s 2ms/step - loss: 11.4058 - val_loss: 26.7395\n",
            "Epoch 110/200\n",
            "51/51 [==============================] - 0s 2ms/step - loss: 10.8882 - val_loss: 25.9680\n",
            "Epoch 111/200\n",
            "51/51 [==============================] - 0s 2ms/step - loss: 12.9708 - val_loss: 26.3620\n",
            "Epoch 112/200\n",
            "51/51 [==============================] - 0s 2ms/step - loss: 11.4136 - val_loss: 26.2819\n",
            "Epoch 113/200\n",
            "51/51 [==============================] - 0s 2ms/step - loss: 9.9308 - val_loss: 27.0595\n",
            "Epoch 114/200\n",
            "51/51 [==============================] - 0s 2ms/step - loss: 10.3437 - val_loss: 27.2361\n",
            "Epoch 115/200\n",
            "51/51 [==============================] - 0s 2ms/step - loss: 9.5213 - val_loss: 27.0811\n",
            "Epoch 116/200\n",
            "51/51 [==============================] - 0s 2ms/step - loss: 11.9772 - val_loss: 26.6174\n",
            "Epoch 117/200\n",
            "51/51 [==============================] - 0s 2ms/step - loss: 10.1662 - val_loss: 27.7300\n",
            "Epoch 118/200\n",
            "51/51 [==============================] - 0s 2ms/step - loss: 9.8716 - val_loss: 27.0391\n",
            "Epoch 119/200\n",
            "51/51 [==============================] - 0s 4ms/step - loss: 13.1199 - val_loss: 26.0363\n",
            "Epoch 120/200\n",
            "51/51 [==============================] - 0s 2ms/step - loss: 10.5210 - val_loss: 26.7164\n",
            "Epoch 121/200\n",
            "51/51 [==============================] - 0s 2ms/step - loss: 11.1054 - val_loss: 26.5460\n",
            "Epoch 122/200\n",
            "51/51 [==============================] - 0s 2ms/step - loss: 8.7226 - val_loss: 27.6020\n",
            "Epoch 123/200\n",
            "51/51 [==============================] - 0s 2ms/step - loss: 9.9329 - val_loss: 26.6454\n",
            "Epoch 124/200\n",
            "51/51 [==============================] - 0s 2ms/step - loss: 11.5082 - val_loss: 26.6760\n",
            "Epoch 125/200\n",
            "51/51 [==============================] - 0s 2ms/step - loss: 9.7559 - val_loss: 26.6500\n",
            "Epoch 126/200\n",
            "51/51 [==============================] - 0s 2ms/step - loss: 11.6703 - val_loss: 26.7750\n",
            "Epoch 127/200\n",
            "51/51 [==============================] - 0s 2ms/step - loss: 10.6330 - val_loss: 26.7664\n",
            "Epoch 128/200\n",
            "51/51 [==============================] - 0s 2ms/step - loss: 11.1523 - val_loss: 26.9147\n",
            "Epoch 129/200\n",
            "51/51 [==============================] - 0s 2ms/step - loss: 10.7133 - val_loss: 26.6017\n",
            "Epoch 130/200\n",
            "51/51 [==============================] - 0s 2ms/step - loss: 11.5599 - val_loss: 26.5693\n",
            "Epoch 131/200\n",
            "51/51 [==============================] - 0s 2ms/step - loss: 11.6878 - val_loss: 26.7249\n",
            "Epoch 132/200\n",
            "51/51 [==============================] - 0s 2ms/step - loss: 7.4797 - val_loss: 28.0171\n",
            "Epoch 133/200\n",
            "51/51 [==============================] - 0s 2ms/step - loss: 11.5958 - val_loss: 26.8472\n",
            "Epoch 134/200\n",
            "51/51 [==============================] - 0s 2ms/step - loss: 8.7444 - val_loss: 28.0107\n",
            "Epoch 135/200\n",
            "51/51 [==============================] - 0s 2ms/step - loss: 10.1868 - val_loss: 27.5957\n",
            "Epoch 136/200\n",
            "51/51 [==============================] - 0s 2ms/step - loss: 10.8832 - val_loss: 27.2424\n",
            "Epoch 137/200\n",
            "51/51 [==============================] - 0s 2ms/step - loss: 11.6591 - val_loss: 26.9707\n",
            "Epoch 138/200\n",
            "51/51 [==============================] - 0s 2ms/step - loss: 9.3097 - val_loss: 27.2626\n",
            "Epoch 139/200\n",
            "51/51 [==============================] - 0s 2ms/step - loss: 12.7393 - val_loss: 26.2761\n",
            "Epoch 140/200\n",
            "51/51 [==============================] - 0s 2ms/step - loss: 10.1671 - val_loss: 27.3269\n",
            "Epoch 141/200\n",
            "51/51 [==============================] - 0s 2ms/step - loss: 10.5671 - val_loss: 26.9796\n",
            "Epoch 142/200\n",
            "51/51 [==============================] - 0s 2ms/step - loss: 11.9559 - val_loss: 26.6140\n",
            "Epoch 143/200\n",
            "51/51 [==============================] - 0s 2ms/step - loss: 7.3838 - val_loss: 25.7348\n",
            "Epoch 144/200\n",
            "51/51 [==============================] - 0s 2ms/step - loss: 9.8529 - val_loss: 27.3196\n",
            "Epoch 145/200\n",
            "51/51 [==============================] - 0s 2ms/step - loss: 11.5368 - val_loss: 25.8953\n",
            "Epoch 146/200\n",
            "51/51 [==============================] - 0s 2ms/step - loss: 10.4760 - val_loss: 26.7330\n",
            "Epoch 147/200\n",
            "51/51 [==============================] - 0s 2ms/step - loss: 9.6726 - val_loss: 26.9748\n",
            "Epoch 148/200\n",
            "51/51 [==============================] - 0s 2ms/step - loss: 9.9828 - val_loss: 27.1293\n",
            "Epoch 149/200\n",
            "51/51 [==============================] - 0s 2ms/step - loss: 9.4436 - val_loss: 27.6031\n",
            "Epoch 150/200\n",
            "51/51 [==============================] - 0s 2ms/step - loss: 7.5942 - val_loss: 26.6518\n",
            "Epoch 151/200\n",
            "51/51 [==============================] - 0s 2ms/step - loss: 8.6997 - val_loss: 26.8720\n",
            "Epoch 152/200\n",
            "51/51 [==============================] - 0s 2ms/step - loss: 12.4661 - val_loss: 26.4118\n",
            "Epoch 153/200\n",
            "51/51 [==============================] - 0s 2ms/step - loss: 11.2724 - val_loss: 26.2086\n",
            "Epoch 154/200\n",
            "51/51 [==============================] - 0s 2ms/step - loss: 10.8547 - val_loss: 27.0421\n",
            "Epoch 155/200\n",
            "51/51 [==============================] - 0s 2ms/step - loss: 11.4932 - val_loss: 26.4567\n",
            "Epoch 156/200\n",
            "51/51 [==============================] - 0s 2ms/step - loss: 9.2941 - val_loss: 26.6119\n",
            "Epoch 157/200\n",
            "51/51 [==============================] - 0s 2ms/step - loss: 8.9076 - val_loss: 26.9689\n",
            "Epoch 158/200\n",
            "51/51 [==============================] - 0s 2ms/step - loss: 9.4802 - val_loss: 25.5445\n",
            "Epoch 159/200\n",
            "51/51 [==============================] - 0s 2ms/step - loss: 8.2829 - val_loss: 26.9246\n",
            "Epoch 160/200\n",
            "51/51 [==============================] - 0s 2ms/step - loss: 8.6783 - val_loss: 26.6865\n",
            "Epoch 161/200\n",
            "51/51 [==============================] - 0s 2ms/step - loss: 10.9358 - val_loss: 26.2838\n",
            "Epoch 162/200\n",
            "51/51 [==============================] - 0s 2ms/step - loss: 8.5649 - val_loss: 26.1938\n",
            "Epoch 163/200\n",
            "51/51 [==============================] - 0s 2ms/step - loss: 8.3037 - val_loss: 26.8175\n",
            "Epoch 164/200\n",
            "51/51 [==============================] - 0s 2ms/step - loss: 12.2880 - val_loss: 26.1906\n",
            "Epoch 165/200\n",
            "51/51 [==============================] - 0s 2ms/step - loss: 8.5911 - val_loss: 25.8774\n",
            "Epoch 166/200\n",
            "51/51 [==============================] - 0s 2ms/step - loss: 7.7694 - val_loss: 26.1972\n",
            "Epoch 167/200\n",
            "51/51 [==============================] - 0s 4ms/step - loss: 8.1250 - val_loss: 25.8687\n",
            "Epoch 168/200\n",
            "51/51 [==============================] - 0s 2ms/step - loss: 7.5331 - val_loss: 27.7866\n",
            "Epoch 169/200\n",
            "51/51 [==============================] - 0s 2ms/step - loss: 10.7495 - val_loss: 27.4594\n",
            "Epoch 170/200\n",
            "51/51 [==============================] - 0s 2ms/step - loss: 9.3625 - val_loss: 25.4373\n",
            "Epoch 171/200\n",
            "51/51 [==============================] - 0s 2ms/step - loss: 10.7234 - val_loss: 26.2750\n",
            "Epoch 172/200\n",
            "51/51 [==============================] - 0s 2ms/step - loss: 8.3966 - val_loss: 25.8046\n",
            "Epoch 173/200\n",
            "51/51 [==============================] - 0s 2ms/step - loss: 9.4094 - val_loss: 25.9160\n",
            "Epoch 174/200\n",
            "51/51 [==============================] - 0s 2ms/step - loss: 10.7230 - val_loss: 25.9732\n",
            "Epoch 175/200\n",
            "51/51 [==============================] - 0s 2ms/step - loss: 8.6757 - val_loss: 28.8162\n",
            "Epoch 176/200\n",
            "51/51 [==============================] - 0s 2ms/step - loss: 11.1049 - val_loss: 26.4502\n",
            "Epoch 177/200\n",
            "51/51 [==============================] - 0s 2ms/step - loss: 9.7069 - val_loss: 26.0666\n",
            "Epoch 178/200\n",
            "51/51 [==============================] - 0s 2ms/step - loss: 7.7652 - val_loss: 26.0663\n",
            "Epoch 179/200\n",
            "51/51 [==============================] - 0s 2ms/step - loss: 10.9630 - val_loss: 26.4860\n",
            "Epoch 180/200\n",
            "51/51 [==============================] - 0s 2ms/step - loss: 9.1632 - val_loss: 26.5156\n",
            "Epoch 181/200\n",
            "51/51 [==============================] - 0s 2ms/step - loss: 9.3308 - val_loss: 26.5677\n",
            "Epoch 182/200\n",
            "51/51 [==============================] - 0s 2ms/step - loss: 10.0266 - val_loss: 26.5352\n",
            "Epoch 183/200\n",
            "51/51 [==============================] - 0s 2ms/step - loss: 7.9425 - val_loss: 26.1820\n",
            "Epoch 184/200\n",
            "51/51 [==============================] - 0s 2ms/step - loss: 7.2770 - val_loss: 26.6612\n",
            "Epoch 185/200\n",
            "51/51 [==============================] - 0s 2ms/step - loss: 9.7886 - val_loss: 26.1112\n",
            "Epoch 186/200\n",
            "51/51 [==============================] - 0s 2ms/step - loss: 7.6751 - val_loss: 25.7265\n",
            "Epoch 187/200\n",
            "51/51 [==============================] - 0s 2ms/step - loss: 8.2752 - val_loss: 26.5634\n",
            "Epoch 188/200\n",
            "51/51 [==============================] - 0s 2ms/step - loss: 8.6358 - val_loss: 26.4123\n",
            "Epoch 189/200\n",
            "51/51 [==============================] - 0s 2ms/step - loss: 8.4722 - val_loss: 26.5672\n",
            "Epoch 190/200\n",
            "51/51 [==============================] - 0s 2ms/step - loss: 9.9043 - val_loss: 26.4011\n",
            "Epoch 191/200\n",
            "51/51 [==============================] - 0s 2ms/step - loss: 9.7160 - val_loss: 26.5657\n",
            "Epoch 192/200\n",
            "51/51 [==============================] - 0s 2ms/step - loss: 8.7759 - val_loss: 25.4688\n",
            "Epoch 193/200\n",
            "51/51 [==============================] - 0s 2ms/step - loss: 8.6768 - val_loss: 25.8898\n",
            "Epoch 194/200\n",
            "51/51 [==============================] - 0s 2ms/step - loss: 8.1555 - val_loss: 25.4410\n",
            "Epoch 195/200\n",
            "51/51 [==============================] - 0s 2ms/step - loss: 8.8243 - val_loss: 26.6497\n",
            "Epoch 196/200\n",
            "51/51 [==============================] - 0s 2ms/step - loss: 8.5151 - val_loss: 25.8325\n",
            "Epoch 197/200\n",
            "51/51 [==============================] - 0s 2ms/step - loss: 8.1497 - val_loss: 26.5173\n",
            "Epoch 198/200\n",
            "51/51 [==============================] - 0s 2ms/step - loss: 8.0653 - val_loss: 25.9248\n",
            "Epoch 199/200\n",
            "51/51 [==============================] - 0s 2ms/step - loss: 8.9608 - val_loss: 24.6121\n",
            "Epoch 200/200\n",
            "51/51 [==============================] - 0s 2ms/step - loss: 9.2538 - val_loss: 26.5925\n"
          ],
          "name": "stdout"
        },
        {
          "output_type": "execute_result",
          "data": {
            "text/plain": [
              "<tensorflow.python.keras.callbacks.History at 0x7f8051f0c2b0>"
            ]
          },
          "metadata": {
            "tags": []
          },
          "execution_count": 74
        }
      ]
    },
    {
      "cell_type": "markdown",
      "metadata": {
        "id": "PlfzqBrfPEGS"
      },
      "source": [
        "### plot model history"
      ]
    },
    {
      "cell_type": "code",
      "metadata": {
        "id": "mq7Sxf0UPEGS"
      },
      "source": [
        "model_loss_history = pd.DataFrame(regression_model_2.history.history)"
      ],
      "execution_count": null,
      "outputs": []
    },
    {
      "cell_type": "code",
      "metadata": {
        "scrolled": true,
        "id": "oQlD96mQPEGU",
        "colab": {
          "base_uri": "https://localhost:8080/",
          "height": 288
        },
        "outputId": "8a20f5e7-e052-4cd8-9e78-8d18f2776bcc"
      },
      "source": [
        "model_loss_history.plot()"
      ],
      "execution_count": null,
      "outputs": [
        {
          "output_type": "execute_result",
          "data": {
            "text/plain": [
              "<matplotlib.axes._subplots.AxesSubplot at 0x7f80738fd048>"
            ]
          },
          "metadata": {
            "tags": []
          },
          "execution_count": 76
        },
        {
          "output_type": "display_data",
          "data": {
            "image/png": "[encoded data removed]",
            "text/plain": [
              "<Figure size 432x288 with 1 Axes>"
            ]
          },
          "metadata": {
            "tags": [],
            "needs_background": "light"
          }
        }
      ]
    },
    {
      "cell_type": "markdown",
      "metadata": {
        "id": "TwgK8BIYPEGV"
      },
      "source": [
        "## Evaluate the model"
      ]
    },
    {
      "cell_type": "code",
      "metadata": {
        "id": "nrGxekmbPEGV",
        "colab": {
          "base_uri": "https://localhost:8080/"
        },
        "outputId": "e432089f-4a11-43ac-b884-7ad12276631e"
      },
      "source": [
        "predictions_2 = regression_model_2.predict(test_data, batch_size=16)\n",
        "predictions_2[1], test_labels[1]"
      ],
      "execution_count": null,
      "outputs": [
        {
          "output_type": "execute_result",
          "data": {
            "text/plain": [
              "(array([18.84622], dtype=float32), array([18.8]))"
            ]
          },
          "metadata": {
            "tags": []
          },
          "execution_count": 77
        }
      ]
    },
    {
      "cell_type": "code",
      "metadata": {
        "id": "XD32hXGIPEGW",
        "colab": {
          "base_uri": "https://localhost:8080/"
        },
        "outputId": "3a56e436-8795-4e74-f43c-4d36fdd3408b"
      },
      "source": [
        "errors = 0.0\n",
        "for idx in range(len(predictions_2)):\n",
        "    if abs(predictions_2[idx] - test_labels[idx]) > 5.0:\n",
        "        errors += 1.0\n",
        "        \n",
        "1 - (errors / len(predictions_2))        "
      ],
      "execution_count": null,
      "outputs": [
        {
          "output_type": "execute_result",
          "data": {
            "text/plain": [
              "0.7843137254901961"
            ]
          },
          "metadata": {
            "tags": []
          },
          "execution_count": 44
        }
      ]
    },
    {
      "cell_type": "markdown",
      "metadata": {
        "id": "T9F8_hpkPEGX"
      },
      "source": [
        "# Creating another regression model with more hidden layer\n",
        "## This time with early stopping"
      ]
    },
    {
      "cell_type": "markdown",
      "metadata": {
        "id": "J0O48aD8PEGY"
      },
      "source": [
        "### import layers and model"
      ]
    },
    {
      "cell_type": "code",
      "metadata": {
        "id": "W0d3o5G_PEGY"
      },
      "source": [
        "from tensorflow.keras.layers import Input, Dense\n",
        "from tensorflow.keras.models import Model"
      ],
      "execution_count": null,
      "outputs": []
    },
    {
      "cell_type": "markdown",
      "metadata": {
        "id": "nD-orZkFPEGa"
      },
      "source": [
        "### create the model"
      ]
    },
    {
      "cell_type": "code",
      "metadata": {
        "id": "VqeY0OoQPEGa"
      },
      "source": [
        "input_layer = Input((13, ))\n",
        "first_hidden_layer = Dense(units=13, activation='relu')(input_layer)\n",
        "second_hidden_layer = Dense(units=8, activation='relu')(first_hidden_layer)\n",
        "third_hidden_layer = Dense(units=4, activation='relu')(second_hidden_layer)\n",
        "prediction = Dense(units=1)(third_hidden_layer)\n",
        "\n",
        "regression_model_3 = Model(input_layer, prediction)"
      ],
      "execution_count": null,
      "outputs": []
    },
    {
      "cell_type": "markdown",
      "metadata": {
        "id": "BrR2fjB8PEGb"
      },
      "source": [
        "### print summary of the model"
      ]
    },
    {
      "cell_type": "code",
      "metadata": {
        "id": "AfEsheAFPEGc",
        "colab": {
          "base_uri": "https://localhost:8080/"
        },
        "outputId": "7f9bad4b-fcb9-4d3b-bec1-11a1f8ce8eab"
      },
      "source": [
        "regression_model_3.summary()"
      ],
      "execution_count": null,
      "outputs": [
        {
          "output_type": "stream",
          "text": [
            "Model: \"model_4\"\n",
            "_________________________________________________________________\n",
            "Layer (type)                 Output Shape              Param #   \n",
            "=================================================================\n",
            "input_5 (InputLayer)         [(None, 13)]              0         \n",
            "_________________________________________________________________\n",
            "dense_14 (Dense)             (None, 13)                182       \n",
            "_________________________________________________________________\n",
            "dense_15 (Dense)             (None, 8)                 112       \n",
            "_________________________________________________________________\n",
            "dense_16 (Dense)             (None, 4)                 36        \n",
            "_________________________________________________________________\n",
            "dense_17 (Dense)             (None, 1)                 5         \n",
            "=================================================================\n",
            "Total params: 335\n",
            "Trainable params: 335\n",
            "Non-trainable params: 0\n",
            "_________________________________________________________________\n"
          ],
          "name": "stdout"
        }
      ]
    },
    {
      "cell_type": "markdown",
      "metadata": {
        "id": "8gUBWB90PEGc"
      },
      "source": [
        "## Compile the model with optimizer and loss function"
      ]
    },
    {
      "cell_type": "code",
      "metadata": {
        "id": "MVknLYOcPEGd"
      },
      "source": [
        "from tensorflow.keras.optimizers import SGD, Adam"
      ],
      "execution_count": null,
      "outputs": []
    },
    {
      "cell_type": "code",
      "metadata": {
        "id": "fkY4SN3XPEGe"
      },
      "source": [
        "regression_model_3.compile(optimizer='adam', loss='mse')"
      ],
      "execution_count": null,
      "outputs": []
    },
    {
      "cell_type": "markdown",
      "metadata": {
        "id": "f5mCmEoIPEGe"
      },
      "source": [
        "## create early stopping"
      ]
    },
    {
      "cell_type": "code",
      "metadata": {
        "id": "qz-x3U_5PEGg"
      },
      "source": [
        "from tensorflow.keras.callbacks import EarlyStopping"
      ],
      "execution_count": null,
      "outputs": []
    },
    {
      "cell_type": "code",
      "metadata": {
        "id": "hBdz60JePEGg"
      },
      "source": [
        "early_stop = EarlyStopping(monitor='val_loss', patience=20, restore_best_weights=True, verbose=1 )"
      ],
      "execution_count": null,
      "outputs": []
    },
    {
      "cell_type": "markdown",
      "metadata": {
        "id": "TJu5nI4IPEGh"
      },
      "source": [
        "## Now we can train the model"
      ]
    },
    {
      "cell_type": "code",
      "metadata": {
        "id": "_JuKGtCPPEGi",
        "colab": {
          "base_uri": "https://localhost:8080/"
        },
        "outputId": "1369c89a-b222-4806-c4d5-da888f8b19d6"
      },
      "source": [
        "regression_model_3.fit(x=train_data, y=train_labels, batch_size=8, epochs=200, validation_data=(test_data, test_labels), callbacks=[early_stop])"
      ],
      "execution_count": null,
      "outputs": [
        {
          "output_type": "stream",
          "text": [
            "Epoch 1/200\n",
            "51/51 [==============================] - 1s 4ms/step - loss: 568.1465 - val_loss: 613.9294\n",
            "Epoch 2/200\n",
            "51/51 [==============================] - 0s 2ms/step - loss: 560.9888 - val_loss: 609.7867\n",
            "Epoch 3/200\n",
            "51/51 [==============================] - 0s 2ms/step - loss: 586.8937 - val_loss: 604.8984\n",
            "Epoch 4/200\n",
            "51/51 [==============================] - 0s 2ms/step - loss: 536.7574 - val_loss: 595.5812\n",
            "Epoch 5/200\n",
            "51/51 [==============================] - 0s 2ms/step - loss: 533.3368 - val_loss: 569.7311\n",
            "Epoch 6/200\n",
            "51/51 [==============================] - 0s 2ms/step - loss: 569.4637 - val_loss: 511.8553\n",
            "Epoch 7/200\n",
            "51/51 [==============================] - 0s 2ms/step - loss: 451.2470 - val_loss: 416.3839\n",
            "Epoch 8/200\n",
            "51/51 [==============================] - 0s 2ms/step - loss: 349.7446 - val_loss: 281.3255\n",
            "Epoch 9/200\n",
            "51/51 [==============================] - 0s 5ms/step - loss: 240.4177 - val_loss: 161.7742\n",
            "Epoch 10/200\n",
            "51/51 [==============================] - 0s 2ms/step - loss: 142.3595 - val_loss: 120.8266\n",
            "Epoch 11/200\n",
            "51/51 [==============================] - 0s 2ms/step - loss: 103.8644 - val_loss: 110.9021\n",
            "Epoch 12/200\n",
            "51/51 [==============================] - 0s 2ms/step - loss: 105.2471 - val_loss: 103.3591\n",
            "Epoch 13/200\n",
            "51/51 [==============================] - 0s 2ms/step - loss: 109.7041 - val_loss: 96.6282\n",
            "Epoch 14/200\n",
            "51/51 [==============================] - 0s 2ms/step - loss: 90.8279 - val_loss: 91.0458\n",
            "Epoch 15/200\n",
            "51/51 [==============================] - 0s 2ms/step - loss: 88.8005 - val_loss: 85.8462\n",
            "Epoch 16/200\n",
            "51/51 [==============================] - 0s 2ms/step - loss: 97.1574 - val_loss: 80.8740\n",
            "Epoch 17/200\n",
            "51/51 [==============================] - 0s 2ms/step - loss: 76.6628 - val_loss: 76.7102\n",
            "Epoch 18/200\n",
            "51/51 [==============================] - 0s 2ms/step - loss: 66.0975 - val_loss: 72.8095\n",
            "Epoch 19/200\n",
            "51/51 [==============================] - 0s 2ms/step - loss: 64.0867 - val_loss: 68.8644\n",
            "Epoch 20/200\n",
            "51/51 [==============================] - 0s 2ms/step - loss: 63.0098 - val_loss: 64.4863\n",
            "Epoch 21/200\n",
            "51/51 [==============================] - 0s 2ms/step - loss: 71.3284 - val_loss: 60.3016\n",
            "Epoch 22/200\n",
            "51/51 [==============================] - 0s 2ms/step - loss: 51.5819 - val_loss: 57.0649\n",
            "Epoch 23/200\n",
            "51/51 [==============================] - 0s 2ms/step - loss: 56.9662 - val_loss: 54.2440\n",
            "Epoch 24/200\n",
            "51/51 [==============================] - 0s 2ms/step - loss: 49.0173 - val_loss: 51.8598\n",
            "Epoch 25/200\n",
            "51/51 [==============================] - 0s 2ms/step - loss: 50.7370 - val_loss: 50.5190\n",
            "Epoch 26/200\n",
            "51/51 [==============================] - 0s 2ms/step - loss: 39.0029 - val_loss: 48.2435\n",
            "Epoch 27/200\n",
            "51/51 [==============================] - 0s 2ms/step - loss: 38.1964 - val_loss: 45.7057\n",
            "Epoch 28/200\n",
            "51/51 [==============================] - 0s 2ms/step - loss: 36.3720 - val_loss: 43.7849\n",
            "Epoch 29/200\n",
            "51/51 [==============================] - 0s 2ms/step - loss: 38.9309 - val_loss: 42.1754\n",
            "Epoch 30/200\n",
            "51/51 [==============================] - 0s 2ms/step - loss: 37.5107 - val_loss: 40.6934\n",
            "Epoch 31/200\n",
            "51/51 [==============================] - 0s 2ms/step - loss: 40.3509 - val_loss: 38.9752\n",
            "Epoch 32/200\n",
            "51/51 [==============================] - 0s 2ms/step - loss: 38.6195 - val_loss: 37.4615\n",
            "Epoch 33/200\n",
            "51/51 [==============================] - 0s 2ms/step - loss: 33.1544 - val_loss: 36.3251\n",
            "Epoch 34/200\n",
            "51/51 [==============================] - 0s 2ms/step - loss: 41.5202 - val_loss: 35.1295\n",
            "Epoch 35/200\n",
            "51/51 [==============================] - 0s 2ms/step - loss: 29.4393 - val_loss: 34.4202\n",
            "Epoch 36/200\n",
            "51/51 [==============================] - 0s 2ms/step - loss: 30.7525 - val_loss: 32.8976\n",
            "Epoch 37/200\n",
            "51/51 [==============================] - 0s 2ms/step - loss: 35.1664 - val_loss: 31.9788\n",
            "Epoch 38/200\n",
            "51/51 [==============================] - 0s 2ms/step - loss: 31.9725 - val_loss: 31.1843\n",
            "Epoch 39/200\n",
            "51/51 [==============================] - 0s 2ms/step - loss: 33.3394 - val_loss: 30.0794\n",
            "Epoch 40/200\n",
            "51/51 [==============================] - 0s 2ms/step - loss: 28.1655 - val_loss: 29.2730\n",
            "Epoch 41/200\n",
            "51/51 [==============================] - 0s 2ms/step - loss: 31.1107 - val_loss: 28.8806\n",
            "Epoch 42/200\n",
            "51/51 [==============================] - 0s 2ms/step - loss: 28.9206 - val_loss: 28.7445\n",
            "Epoch 43/200\n",
            "51/51 [==============================] - 0s 2ms/step - loss: 27.6350 - val_loss: 27.5459\n",
            "Epoch 44/200\n",
            "51/51 [==============================] - 0s 2ms/step - loss: 26.3814 - val_loss: 27.0250\n",
            "Epoch 45/200\n",
            "51/51 [==============================] - 0s 2ms/step - loss: 27.1244 - val_loss: 26.9534\n",
            "Epoch 46/200\n",
            "51/51 [==============================] - 0s 2ms/step - loss: 24.1992 - val_loss: 26.5159\n",
            "Epoch 47/200\n",
            "51/51 [==============================] - 0s 2ms/step - loss: 24.1493 - val_loss: 26.0658\n",
            "Epoch 48/200\n",
            "51/51 [==============================] - 0s 2ms/step - loss: 21.6557 - val_loss: 26.5132\n",
            "Epoch 49/200\n",
            "51/51 [==============================] - 0s 2ms/step - loss: 23.1061 - val_loss: 26.4262\n",
            "Epoch 50/200\n",
            "51/51 [==============================] - 0s 2ms/step - loss: 21.9880 - val_loss: 25.7855\n",
            "Epoch 51/200\n",
            "51/51 [==============================] - 0s 2ms/step - loss: 20.8988 - val_loss: 25.8873\n",
            "Epoch 52/200\n",
            "51/51 [==============================] - 0s 2ms/step - loss: 25.2637 - val_loss: 25.1659\n",
            "Epoch 53/200\n",
            "51/51 [==============================] - 0s 2ms/step - loss: 23.1761 - val_loss: 24.9518\n",
            "Epoch 54/200\n",
            "51/51 [==============================] - 0s 2ms/step - loss: 23.0183 - val_loss: 25.2316\n",
            "Epoch 55/200\n",
            "51/51 [==============================] - 0s 2ms/step - loss: 22.4153 - val_loss: 24.9927\n",
            "Epoch 56/200\n",
            "51/51 [==============================] - 0s 2ms/step - loss: 22.9250 - val_loss: 24.5072\n",
            "Epoch 57/200\n",
            "51/51 [==============================] - 0s 2ms/step - loss: 23.2756 - val_loss: 24.3816\n",
            "Epoch 58/200\n",
            "51/51 [==============================] - 0s 2ms/step - loss: 29.0281 - val_loss: 24.1611\n",
            "Epoch 59/200\n",
            "51/51 [==============================] - 0s 2ms/step - loss: 25.9791 - val_loss: 24.1448\n",
            "Epoch 60/200\n",
            "51/51 [==============================] - 0s 2ms/step - loss: 20.0345 - val_loss: 24.2154\n",
            "Epoch 61/200\n",
            "51/51 [==============================] - 0s 2ms/step - loss: 19.2177 - val_loss: 24.1004\n",
            "Epoch 62/200\n",
            "51/51 [==============================] - 0s 2ms/step - loss: 27.9821 - val_loss: 23.9499\n",
            "Epoch 63/200\n",
            "51/51 [==============================] - 0s 2ms/step - loss: 22.9648 - val_loss: 23.7688\n",
            "Epoch 64/200\n",
            "51/51 [==============================] - 0s 2ms/step - loss: 23.7042 - val_loss: 23.7201\n",
            "Epoch 65/200\n",
            "51/51 [==============================] - 0s 2ms/step - loss: 20.6912 - val_loss: 23.6025\n",
            "Epoch 66/200\n",
            "51/51 [==============================] - 0s 2ms/step - loss: 18.1594 - val_loss: 23.7658\n",
            "Epoch 67/200\n",
            "51/51 [==============================] - 0s 2ms/step - loss: 21.8115 - val_loss: 23.5155\n",
            "Epoch 68/200\n",
            "51/51 [==============================] - 0s 2ms/step - loss: 19.2739 - val_loss: 23.8454\n",
            "Epoch 69/200\n",
            "51/51 [==============================] - 0s 2ms/step - loss: 21.0455 - val_loss: 24.6145\n",
            "Epoch 70/200\n",
            "51/51 [==============================] - 0s 2ms/step - loss: 27.2101 - val_loss: 23.2722\n",
            "Epoch 71/200\n",
            "51/51 [==============================] - 0s 5ms/step - loss: 19.0656 - val_loss: 23.8691\n",
            "Epoch 72/200\n",
            "51/51 [==============================] - 0s 2ms/step - loss: 21.8235 - val_loss: 23.4349\n",
            "Epoch 73/200\n",
            "51/51 [==============================] - 0s 2ms/step - loss: 23.1067 - val_loss: 23.5885\n",
            "Epoch 74/200\n",
            "51/51 [==============================] - 0s 2ms/step - loss: 19.2749 - val_loss: 23.5249\n",
            "Epoch 75/200\n",
            "51/51 [==============================] - 0s 2ms/step - loss: 20.4412 - val_loss: 23.5159\n",
            "Epoch 76/200\n",
            "51/51 [==============================] - 0s 2ms/step - loss: 23.7855 - val_loss: 23.3150\n",
            "Epoch 77/200\n",
            "51/51 [==============================] - 0s 2ms/step - loss: 27.2484 - val_loss: 23.2977\n",
            "Epoch 78/200\n",
            "51/51 [==============================] - 0s 2ms/step - loss: 22.8930 - val_loss: 23.2103\n",
            "Epoch 79/200\n",
            "51/51 [==============================] - 0s 2ms/step - loss: 20.3825 - val_loss: 23.3573\n",
            "Epoch 80/200\n",
            "51/51 [==============================] - 0s 2ms/step - loss: 29.8883 - val_loss: 23.2577\n",
            "Epoch 81/200\n",
            "51/51 [==============================] - 0s 2ms/step - loss: 18.8256 - val_loss: 23.1361\n",
            "Epoch 82/200\n",
            "51/51 [==============================] - 0s 2ms/step - loss: 18.3288 - val_loss: 23.1054\n",
            "Epoch 83/200\n",
            "51/51 [==============================] - 0s 2ms/step - loss: 19.5084 - val_loss: 23.3944\n",
            "Epoch 84/200\n",
            "51/51 [==============================] - 0s 2ms/step - loss: 25.0429 - val_loss: 23.2922\n",
            "Epoch 85/200\n",
            "51/51 [==============================] - 0s 2ms/step - loss: 24.0197 - val_loss: 23.2761\n",
            "Epoch 86/200\n",
            "51/51 [==============================] - 0s 2ms/step - loss: 22.4023 - val_loss: 23.5522\n",
            "Epoch 87/200\n",
            "51/51 [==============================] - 0s 2ms/step - loss: 19.8335 - val_loss: 23.0234\n",
            "Epoch 88/200\n",
            "51/51 [==============================] - 0s 2ms/step - loss: 22.9305 - val_loss: 23.3002\n",
            "Epoch 89/200\n",
            "51/51 [==============================] - 0s 2ms/step - loss: 20.5358 - val_loss: 23.1143\n",
            "Epoch 90/200\n",
            "51/51 [==============================] - 0s 2ms/step - loss: 21.6842 - val_loss: 23.1883\n",
            "Epoch 91/200\n",
            "51/51 [==============================] - 0s 3ms/step - loss: 16.3047 - val_loss: 24.7653\n",
            "Epoch 92/200\n",
            "51/51 [==============================] - 0s 2ms/step - loss: 17.0948 - val_loss: 23.2858\n",
            "Epoch 93/200\n",
            "51/51 [==============================] - 0s 2ms/step - loss: 18.6451 - val_loss: 23.2349\n",
            "Epoch 94/200\n",
            "51/51 [==============================] - 0s 2ms/step - loss: 23.7220 - val_loss: 23.2328\n",
            "Epoch 95/200\n",
            "51/51 [==============================] - 0s 2ms/step - loss: 18.4609 - val_loss: 23.2128\n",
            "Epoch 96/200\n",
            "51/51 [==============================] - 0s 2ms/step - loss: 25.3983 - val_loss: 23.2218\n",
            "Epoch 97/200\n",
            "51/51 [==============================] - 0s 2ms/step - loss: 18.5958 - val_loss: 23.4270\n",
            "Epoch 98/200\n",
            "51/51 [==============================] - 0s 2ms/step - loss: 21.6400 - val_loss: 23.3305\n",
            "Epoch 99/200\n",
            "51/51 [==============================] - 0s 2ms/step - loss: 23.0924 - val_loss: 23.4446\n",
            "Epoch 100/200\n",
            "51/51 [==============================] - 0s 2ms/step - loss: 21.5260 - val_loss: 23.2022\n",
            "Epoch 101/200\n",
            "51/51 [==============================] - 0s 2ms/step - loss: 19.9965 - val_loss: 23.3712\n",
            "Epoch 102/200\n",
            "51/51 [==============================] - 0s 2ms/step - loss: 23.3451 - val_loss: 23.2337\n",
            "Epoch 103/200\n",
            "51/51 [==============================] - 0s 2ms/step - loss: 20.1486 - val_loss: 23.5758\n",
            "Epoch 104/200\n",
            "51/51 [==============================] - 0s 2ms/step - loss: 23.7161 - val_loss: 23.4227\n",
            "Epoch 105/200\n",
            "51/51 [==============================] - 0s 2ms/step - loss: 19.9790 - val_loss: 23.4706\n",
            "Epoch 106/200\n",
            "51/51 [==============================] - 0s 2ms/step - loss: 17.9055 - val_loss: 23.3163\n",
            "Epoch 107/200\n",
            "51/51 [==============================] - 0s 2ms/step - loss: 19.1035 - val_loss: 23.1255\n",
            "Restoring model weights from the end of the best epoch.\n",
            "Epoch 00107: early stopping\n"
          ],
          "name": "stdout"
        },
        {
          "output_type": "execute_result",
          "data": {
            "text/plain": [
              "<tensorflow.python.keras.callbacks.History at 0x7f80514bd208>"
            ]
          },
          "metadata": {
            "tags": []
          },
          "execution_count": 86
        }
      ]
    },
    {
      "cell_type": "markdown",
      "metadata": {
        "id": "yYocZ5xYPEGi"
      },
      "source": [
        "### plot model history"
      ]
    },
    {
      "cell_type": "code",
      "metadata": {
        "id": "b60ec6aEPEGk"
      },
      "source": [
        "model_loss_history = pd.DataFrame(regression_model_3.history.history)"
      ],
      "execution_count": null,
      "outputs": []
    },
    {
      "cell_type": "code",
      "metadata": {
        "scrolled": false,
        "id": "d7yGfYWpPEGl",
        "colab": {
          "base_uri": "https://localhost:8080/",
          "height": 284
        },
        "outputId": "46243d1e-11f4-4ac0-8336-48fdb885cf83"
      },
      "source": [
        "model_loss_history.plot()"
      ],
      "execution_count": null,
      "outputs": [
        {
          "output_type": "execute_result",
          "data": {
            "text/plain": [
              "<matplotlib.axes._subplots.AxesSubplot at 0x7f80516d7780>"
            ]
          },
          "metadata": {
            "tags": []
          },
          "execution_count": 88
        },
        {
          "output_type": "display_data",
          "data": {
            "image/png": "[encoded data removed]",
            "text/plain": [
              "<Figure size 432x288 with 1 Axes>"
            ]
          },
          "metadata": {
            "tags": [],
            "needs_background": "light"
          }
        }
      ]
    },
    {
      "cell_type": "markdown",
      "metadata": {
        "id": "4yB9mkB7PEGl"
      },
      "source": [
        "## Evaluate the model"
      ]
    },
    {
      "cell_type": "code",
      "metadata": {
        "scrolled": true,
        "id": "WRVhR_3WPEGm",
        "colab": {
          "base_uri": "https://localhost:8080/"
        },
        "outputId": "2d517f58-9364-4e66-bc46-37766399d201"
      },
      "source": [
        "predictions_3 = regression_model_3.predict(test_data, batch_size=16)\n",
        "predictions_3 [4]\n"
      ],
      "execution_count": null,
      "outputs": [
        {
          "output_type": "execute_result",
          "data": {
            "text/plain": [
              "array([24.631407], dtype=float32)"
            ]
          },
          "metadata": {
            "tags": []
          },
          "execution_count": 89
        }
      ]
    },
    {
      "cell_type": "code",
      "metadata": {
        "id": "db3McULUPEGn",
        "colab": {
          "base_uri": "https://localhost:8080/"
        },
        "outputId": "510ef6c1-22e7-4dd0-89cb-4ffe3a59c4eb"
      },
      "source": [
        "test_labels[4]"
      ],
      "execution_count": null,
      "outputs": [
        {
          "output_type": "execute_result",
          "data": {
            "text/plain": [
              "array([22.2])"
            ]
          },
          "metadata": {
            "tags": []
          },
          "execution_count": 56
        }
      ]
    },
    {
      "cell_type": "code",
      "metadata": {
        "id": "7i1DcDT0PEGn",
        "colab": {
          "base_uri": "https://localhost:8080/"
        },
        "outputId": "f335c34a-fa2a-457b-8459-c1069511819d"
      },
      "source": [
        "errors = 0.0\n",
        "for idx in range(len(predictions_3)):\n",
        "    if abs(predictions_3[idx] - test_labels[idx]) > 5.0:\n",
        "        errors += 1.0\n",
        "        \n",
        "1 - (errors / len(predictions_3))        "
      ],
      "execution_count": null,
      "outputs": [
        {
          "output_type": "execute_result",
          "data": {
            "text/plain": [
              "0.8235294117647058"
            ]
          },
          "metadata": {
            "tags": []
          },
          "execution_count": 90
        }
      ]
    },
    {
      "cell_type": "code",
      "metadata": {
        "id": "G8TrnOqCPEGq"
      },
      "source": [
        ""
      ],
      "execution_count": null,
      "outputs": []
    }
  ]
}