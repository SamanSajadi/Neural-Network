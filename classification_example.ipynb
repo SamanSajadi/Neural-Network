{
  "nbformat": 4,
  "nbformat_minor": 0,
  "metadata": {
    "kernelspec": {
      "display_name": "Python 3",
      "language": "python",
      "name": "python3"
    },
    "language_info": {
      "codemirror_mode": {
        "name": "ipython",
        "version": 3
      },
      "file_extension": ".py",
      "mimetype": "text/x-python",
      "name": "python",
      "nbconvert_exporter": "python",
      "pygments_lexer": "ipython3",
      "version": "3.8.5"
    },
    "colab": {
      "name": "classification_example.ipynb",
      "provenance": []
    }
  },
  "cells": [
    {
      "cell_type": "markdown",
      "metadata": {
        "id": "MHcPMGpDUTSo"
      },
      "source": [
        "# Import what we need"
      ]
    },
    {
      "cell_type": "code",
      "metadata": {
        "id": "3kX6yQvlUTS0"
      },
      "source": [
        "import tensorflow as tf\n",
        "import numpy as np\n",
        "import pandas as pd\n",
        "import matplotlib.pyplot as plt\n",
        "%matplotlib inline"
      ],
      "execution_count": 1,
      "outputs": []
    },
    {
      "cell_type": "markdown",
      "metadata": {
        "id": "yRWKcuLJUTS3"
      },
      "source": [
        "# Load MNIST Dataset"
      ]
    },
    {
      "cell_type": "code",
      "metadata": {
        "id": "TJk3Ek9lUTS5"
      },
      "source": [
        "(train_data, train_labels), (test_data, test_labels) = tf.keras.datasets.mnist.load_data()"
      ],
      "execution_count": 2,
      "outputs": []
    },
    {
      "cell_type": "markdown",
      "metadata": {
        "id": "U7YaVqLDUTS7"
      },
      "source": [
        "### check shapes and types"
      ]
    },
    {
      "cell_type": "code",
      "metadata": {
        "colab": {
          "base_uri": "https://localhost:8080/"
        },
        "id": "sMbhmEhUUTS8",
        "outputId": "c6ede790-2adf-4b7f-f217-96f3d3481d3e"
      },
      "source": [
        "type(train_data), train_data.dtype, train_data.shape"
      ],
      "execution_count": 3,
      "outputs": [
        {
          "output_type": "execute_result",
          "data": {
            "text/plain": [
              "(numpy.ndarray, dtype('uint8'), (60000, 28, 28))"
            ]
          },
          "metadata": {
            "tags": []
          },
          "execution_count": 3
        }
      ]
    },
    {
      "cell_type": "code",
      "metadata": {
        "colab": {
          "base_uri": "https://localhost:8080/"
        },
        "id": "ZUPUtDjymjVj",
        "outputId": "b2891a12-abed-4b64-8c09-7af9a4b69c2d"
      },
      "source": [
        "train_labels[1:7]"
      ],
      "execution_count": 4,
      "outputs": [
        {
          "output_type": "execute_result",
          "data": {
            "text/plain": [
              "array([0, 4, 1, 9, 2, 1], dtype=uint8)"
            ]
          },
          "metadata": {
            "tags": []
          },
          "execution_count": 4
        }
      ]
    },
    {
      "cell_type": "code",
      "metadata": {
        "colab": {
          "base_uri": "https://localhost:8080/"
        },
        "id": "XTl_pxWJUTS_",
        "outputId": "a59c62d2-cbdb-48d2-825b-d487b93299ea"
      },
      "source": [
        "type(train_labels), train_labels.dtype, train_labels.shape"
      ],
      "execution_count": 5,
      "outputs": [
        {
          "output_type": "execute_result",
          "data": {
            "text/plain": [
              "(numpy.ndarray, dtype('uint8'), (60000,))"
            ]
          },
          "metadata": {
            "tags": []
          },
          "execution_count": 5
        }
      ]
    },
    {
      "cell_type": "markdown",
      "metadata": {
        "id": "XDGuSP3hUTTA"
      },
      "source": [
        "### check shapes and types of test data"
      ]
    },
    {
      "cell_type": "code",
      "metadata": {
        "id": "5HbuNB8tUTTB",
        "colab": {
          "base_uri": "https://localhost:8080/"
        },
        "outputId": "40a3da9b-61e5-4a79-8b1c-5e4f5c23db0f"
      },
      "source": [
        "type(test_data), test_data.dtype, test_data.shape"
      ],
      "execution_count": 6,
      "outputs": [
        {
          "output_type": "execute_result",
          "data": {
            "text/plain": [
              "(numpy.ndarray, dtype('uint8'), (10000, 28, 28))"
            ]
          },
          "metadata": {
            "tags": []
          },
          "execution_count": 6
        }
      ]
    },
    {
      "cell_type": "code",
      "metadata": {
        "id": "_OsR-N2PUTTC",
        "colab": {
          "base_uri": "https://localhost:8080/"
        },
        "outputId": "237e0fe2-3d26-49f7-b37a-ba907ef98094"
      },
      "source": [
        "type(test_labels), test_labels.dtype, test_labels.shape"
      ],
      "execution_count": 7,
      "outputs": [
        {
          "output_type": "execute_result",
          "data": {
            "text/plain": [
              "(numpy.ndarray, dtype('uint8'), (10000,))"
            ]
          },
          "metadata": {
            "tags": []
          },
          "execution_count": 7
        }
      ]
    },
    {
      "cell_type": "markdown",
      "metadata": {
        "id": "xjscbivhUTTE"
      },
      "source": [
        "### now lets plot some images"
      ]
    },
    {
      "cell_type": "code",
      "metadata": {
        "colab": {
          "base_uri": "https://localhost:8080/"
        },
        "id": "CX2GonHuUTTH",
        "outputId": "779404d1-d0c7-4994-8542-1774049855cf"
      },
      "source": [
        "train_labels[1]"
      ],
      "execution_count": 8,
      "outputs": [
        {
          "output_type": "execute_result",
          "data": {
            "text/plain": [
              "0"
            ]
          },
          "metadata": {
            "tags": []
          },
          "execution_count": 8
        }
      ]
    },
    {
      "cell_type": "code",
      "metadata": {
        "scrolled": true,
        "colab": {
          "base_uri": "https://localhost:8080/",
          "height": 282
        },
        "id": "NSK3BN0MUTTJ",
        "outputId": "2e426cbd-c862-44fc-ec6f-9f9115c3216a"
      },
      "source": [
        "plt.imshow(train_data[1])"
      ],
      "execution_count": 9,
      "outputs": [
        {
          "output_type": "execute_result",
          "data": {
            "text/plain": [
              "<matplotlib.image.AxesImage at 0x7fdc0e2d70d0>"
            ]
          },
          "metadata": {
            "tags": []
          },
          "execution_count": 9
        },
        {
          "output_type": "display_data",
          "data": {
            "image/png": "[encoded data removed]",
            "text/plain": [
              "<Figure size 432x288 with 1 Axes>"
            ]
          },
          "metadata": {
            "tags": [],
            "needs_background": "light"
          }
        }
      ]
    },
    {
      "cell_type": "code",
      "metadata": {
        "id": "9UbyuJruUTTK",
        "colab": {
          "base_uri": "https://localhost:8080/"
        },
        "outputId": "e9a4b749-2a55-4d1e-f23f-86ff952cb9a6"
      },
      "source": [
        "train_labels[0]"
      ],
      "execution_count": 10,
      "outputs": [
        {
          "output_type": "execute_result",
          "data": {
            "text/plain": [
              "5"
            ]
          },
          "metadata": {
            "tags": []
          },
          "execution_count": 10
        }
      ]
    },
    {
      "cell_type": "code",
      "metadata": {
        "id": "DdL-af8NUTTL",
        "colab": {
          "base_uri": "https://localhost:8080/",
          "height": 282
        },
        "outputId": "ed3359a6-f334-43db-edba-4e978b1b68b3"
      },
      "source": [
        "plt.imshow(train_data[0])"
      ],
      "execution_count": 11,
      "outputs": [
        {
          "output_type": "execute_result",
          "data": {
            "text/plain": [
              "<matplotlib.image.AxesImage at 0x7fdc0ddb0f10>"
            ]
          },
          "metadata": {
            "tags": []
          },
          "execution_count": 11
        },
        {
          "output_type": "display_data",
          "data": {
            "image/png": "[encoded data removed]",
            "text/plain": [
              "<Figure size 432x288 with 1 Axes>"
            ]
          },
          "metadata": {
            "tags": [],
            "needs_background": "light"
          }
        }
      ]
    },
    {
      "cell_type": "markdown",
      "metadata": {
        "id": "Q-oONnsoUTTM"
      },
      "source": [
        "# Reshape train and test data"
      ]
    },
    {
      "cell_type": "code",
      "metadata": {
        "colab": {
          "base_uri": "https://localhost:8080/"
        },
        "id": "6PGw6d2MUTTO",
        "outputId": "f1fd1e2d-1d17-421d-f0e4-910df6f74957"
      },
      "source": [
        "train_data = np.reshape(train_data, newshape=(-1, 28 * 28))\n",
        "train_data.shape, train_data.dtype"
      ],
      "execution_count": 12,
      "outputs": [
        {
          "output_type": "execute_result",
          "data": {
            "text/plain": [
              "((60000, 784), dtype('uint8'))"
            ]
          },
          "metadata": {
            "tags": []
          },
          "execution_count": 12
        }
      ]
    },
    {
      "cell_type": "code",
      "metadata": {
        "colab": {
          "base_uri": "https://localhost:8080/"
        },
        "id": "BLcIGk3FUTTQ",
        "outputId": "d0d97adf-77e0-4a27-b394-c5f892f7be1c"
      },
      "source": [
        "test_data = np.reshape(test_data, newshape=(-1, 28 * 28))\n",
        "test_data.shape, test_data.dtype"
      ],
      "execution_count": 13,
      "outputs": [
        {
          "output_type": "execute_result",
          "data": {
            "text/plain": [
              "((10000, 784), dtype('uint8'))"
            ]
          },
          "metadata": {
            "tags": []
          },
          "execution_count": 13
        }
      ]
    },
    {
      "cell_type": "markdown",
      "metadata": {
        "id": "-GXskQEMUTTR"
      },
      "source": [
        "# Convert labels to one-hot encoding\n",
        "### essential for classification - use to_categorical"
      ]
    },
    {
      "cell_type": "code",
      "metadata": {
        "id": "ensb5QubUTTS"
      },
      "source": [
        "from tensorflow.keras.utils import to_categorical"
      ],
      "execution_count": 14,
      "outputs": []
    },
    {
      "cell_type": "code",
      "metadata": {
        "colab": {
          "base_uri": "https://localhost:8080/"
        },
        "id": "zdrhlfPkUTTT",
        "outputId": "951bffc8-2825-4666-9ae0-851a30a48d37"
      },
      "source": [
        "train_labels = to_categorical(train_labels, num_classes=10 )\n",
        "\n",
        "train_labels.shape, train_labels.dtype"
      ],
      "execution_count": 15,
      "outputs": [
        {
          "output_type": "execute_result",
          "data": {
            "text/plain": [
              "((60000, 10), dtype('float32'))"
            ]
          },
          "metadata": {
            "tags": []
          },
          "execution_count": 15
        }
      ]
    },
    {
      "cell_type": "code",
      "metadata": {
        "colab": {
          "base_uri": "https://localhost:8080/"
        },
        "id": "uzznfRoXsdEN",
        "outputId": "689469e4-8972-40fd-e65a-ee84242b34f6"
      },
      "source": [
        "test_labels = to_categorical(test_labels, num_classes=10)\n",
        "test_labels.shape, test_labels.dtype"
      ],
      "execution_count": 16,
      "outputs": [
        {
          "output_type": "execute_result",
          "data": {
            "text/plain": [
              "((10000, 10), dtype('float32'))"
            ]
          },
          "metadata": {
            "tags": []
          },
          "execution_count": 16
        }
      ]
    },
    {
      "cell_type": "markdown",
      "metadata": {
        "id": "9kYzmCC6UTTU"
      },
      "source": [
        "### now see new one-hot labels"
      ]
    },
    {
      "cell_type": "code",
      "metadata": {
        "colab": {
          "base_uri": "https://localhost:8080/"
        },
        "id": "U7cCnxGVUTTV",
        "outputId": "49595a57-f722-4b64-c5e3-0e80b8122c93"
      },
      "source": [
        "train_labels[0]\r\n"
      ],
      "execution_count": 17,
      "outputs": [
        {
          "output_type": "execute_result",
          "data": {
            "text/plain": [
              "array([0., 0., 0., 0., 0., 1., 0., 0., 0., 0.], dtype=float32)"
            ]
          },
          "metadata": {
            "tags": []
          },
          "execution_count": 17
        }
      ]
    },
    {
      "cell_type": "markdown",
      "metadata": {
        "id": "WYfifUrKUTTY"
      },
      "source": [
        "# Normalize the data\n",
        "### between 0 and 1 and float32 dtype"
      ]
    },
    {
      "cell_type": "code",
      "metadata": {
        "colab": {
          "base_uri": "https://localhost:8080/"
        },
        "id": "PxjPQvrFUTTZ",
        "outputId": "5a96d358-34f4-4f9c-a564-582c89385b46"
      },
      "source": [
        "train_data = train_data.astype('float32') / 255.0\n",
        "train_data.shape, train_data.dtype"
      ],
      "execution_count": 18,
      "outputs": [
        {
          "output_type": "execute_result",
          "data": {
            "text/plain": [
              "((60000, 784), dtype('float32'))"
            ]
          },
          "metadata": {
            "tags": []
          },
          "execution_count": 18
        }
      ]
    },
    {
      "cell_type": "code",
      "metadata": {
        "colab": {
          "base_uri": "https://localhost:8080/"
        },
        "id": "tuTQVXRAUTTa",
        "outputId": "94a575e2-af2b-413c-953d-46ed3e3b7986"
      },
      "source": [
        "test_data = test_data.astype('float32') / 255.0\n",
        "test_data.shape, test_data.dtype"
      ],
      "execution_count": 19,
      "outputs": [
        {
          "output_type": "execute_result",
          "data": {
            "text/plain": [
              "((10000, 784), dtype('float32'))"
            ]
          },
          "metadata": {
            "tags": []
          },
          "execution_count": 19
        }
      ]
    },
    {
      "cell_type": "markdown",
      "metadata": {
        "id": "bG8wj_3bUTTb"
      },
      "source": [
        "### check mean, min, max of data"
      ]
    },
    {
      "cell_type": "code",
      "metadata": {
        "colab": {
          "base_uri": "https://localhost:8080/"
        },
        "id": "xsSkkLDRUTTd",
        "outputId": "dab6d9a7-7541-4e93-8c13-3d521ef8267b"
      },
      "source": [
        "train_data.mean()"
      ],
      "execution_count": 20,
      "outputs": [
        {
          "output_type": "execute_result",
          "data": {
            "text/plain": [
              "0.13066062"
            ]
          },
          "metadata": {
            "tags": []
          },
          "execution_count": 20
        }
      ]
    },
    {
      "cell_type": "code",
      "metadata": {
        "colab": {
          "base_uri": "https://localhost:8080/"
        },
        "id": "d0DbRLD_UTTe",
        "outputId": "570e9575-ab22-43c3-f6d7-3fb102109d5b"
      },
      "source": [
        "test_data.mean()"
      ],
      "execution_count": 21,
      "outputs": [
        {
          "output_type": "execute_result",
          "data": {
            "text/plain": [
              "0.13251467"
            ]
          },
          "metadata": {
            "tags": []
          },
          "execution_count": 21
        }
      ]
    },
    {
      "cell_type": "markdown",
      "metadata": {
        "id": "4X08Q1C5UTTe"
      },
      "source": [
        "## last final check of all shapes"
      ]
    },
    {
      "cell_type": "code",
      "metadata": {
        "colab": {
          "base_uri": "https://localhost:8080/"
        },
        "id": "b-rzldUEUTTf",
        "outputId": "30056365-e3dd-4d24-d467-37517ce2aeb9"
      },
      "source": [
        "train_data.shape, train_labels.shape, test_data.shape, test_labels.shape"
      ],
      "execution_count": 22,
      "outputs": [
        {
          "output_type": "execute_result",
          "data": {
            "text/plain": [
              "((60000, 784), (60000, 10), (10000, 784), (10000, 10))"
            ]
          },
          "metadata": {
            "tags": []
          },
          "execution_count": 22
        }
      ]
    },
    {
      "cell_type": "markdown",
      "metadata": {
        "id": "-p-K6310UTTh"
      },
      "source": [
        "## Use some portion of data if you want"
      ]
    },
    {
      "cell_type": "code",
      "metadata": {
        "colab": {
          "base_uri": "https://localhost:8080/"
        },
        "id": "_gzlVNWJUTTi",
        "outputId": "195dfecd-65d8-4017-c211-1e5e7ab7a4aa"
      },
      "source": [
        "train_data = train_data[:10000]\n",
        "train_labels = train_labels[:10000]\n",
        "train_data.shape, train_labels.shape"
      ],
      "execution_count": 23,
      "outputs": [
        {
          "output_type": "execute_result",
          "data": {
            "text/plain": [
              "((10000, 784), (10000, 10))"
            ]
          },
          "metadata": {
            "tags": []
          },
          "execution_count": 23
        }
      ]
    },
    {
      "cell_type": "markdown",
      "metadata": {
        "id": "l9Mf7j4CUTTj"
      },
      "source": [
        "# Create Our Classification Model"
      ]
    },
    {
      "cell_type": "markdown",
      "metadata": {
        "id": "2Yt79ZkyUTTl"
      },
      "source": [
        "### Import layers and models"
      ]
    },
    {
      "cell_type": "code",
      "metadata": {
        "id": "NytiVmhqUTTm"
      },
      "source": [
        "from tensorflow.keras.models import Model\n",
        "from tensorflow.keras.layers import Input, Dense"
      ],
      "execution_count": 24,
      "outputs": []
    },
    {
      "cell_type": "markdown",
      "metadata": {
        "id": "alrqkj_oUTTn"
      },
      "source": [
        "## Create the model"
      ]
    },
    {
      "cell_type": "code",
      "metadata": {
        "id": "XGOLmQ-TUTTo"
      },
      "source": [
        "input_layer = Input(shape=(784,))\n",
        "x = Dense(units=512, activation='relu')(input_layer)\n",
        "x = Dense(units=256, activation='relu')(x)\n",
        "x = Dense(units=128, activation='relu')(x)\n",
        "predictions = Dense(units=10, activation='softmax')(x)\n",
        "\n",
        "my_first_classifier_model = Model(inputs=input_layer, outputs=predictions)"
      ],
      "execution_count": 25,
      "outputs": []
    },
    {
      "cell_type": "markdown",
      "metadata": {
        "id": "L3rUXm9gUTTp"
      },
      "source": [
        "### print summary of the model"
      ]
    },
    {
      "cell_type": "code",
      "metadata": {
        "colab": {
          "base_uri": "https://localhost:8080/"
        },
        "id": "PvExZJODUTTq",
        "outputId": "8ef37c75-8f4d-4753-cd68-3c6f902e35c4"
      },
      "source": [
        "my_first_classifier_model.summary()"
      ],
      "execution_count": 26,
      "outputs": [
        {
          "output_type": "stream",
          "text": [
            "Model: \"model\"\n",
            "_________________________________________________________________\n",
            "Layer (type)                 Output Shape              Param #   \n",
            "=================================================================\n",
            "input_1 (InputLayer)         [(None, 784)]             0         \n",
            "_________________________________________________________________\n",
            "dense (Dense)                (None, 512)               401920    \n",
            "_________________________________________________________________\n",
            "dense_1 (Dense)              (None, 256)               131328    \n",
            "_________________________________________________________________\n",
            "dense_2 (Dense)              (None, 128)               32896     \n",
            "_________________________________________________________________\n",
            "dense_3 (Dense)              (None, 10)                1290      \n",
            "=================================================================\n",
            "Total params: 567,434\n",
            "Trainable params: 567,434\n",
            "Non-trainable params: 0\n",
            "_________________________________________________________________\n"
          ],
          "name": "stdout"
        }
      ]
    },
    {
      "cell_type": "markdown",
      "metadata": {
        "id": "OKPUtO-7UTTq"
      },
      "source": [
        "# Compile the model\n",
        "## With optimizer and loss function\n",
        "## This time we use another metric as well"
      ]
    },
    {
      "cell_type": "code",
      "metadata": {
        "id": "-j2gZjt1UTTr"
      },
      "source": [
        "from tensorflow.keras.optimizers import SGD, Adam\n",
        "my_first_classifier_model.compile(optimizer=Adam(learning_rate=0.0001),\n",
        "                                  loss='categorical_crossentropy',\n",
        "                                  metrics=['accuracy'])"
      ],
      "execution_count": 27,
      "outputs": []
    },
    {
      "cell_type": "markdown",
      "metadata": {
        "id": "uVOnhju0UTTs"
      },
      "source": [
        "## Now we can train the model"
      ]
    },
    {
      "cell_type": "code",
      "metadata": {
        "colab": {
          "base_uri": "https://localhost:8080/"
        },
        "id": "2OqB8FPwUTTs",
        "outputId": "231c6b1f-c4dd-4cb9-b919-f19d1fbcbc1c"
      },
      "source": [
        "my_first_classifier_model.fit(x=train_data, y=train_labels,\n",
        "                              batch_size=32, epochs=50, shuffle=True,\n",
        "                              validation_data=(test_data, test_labels))\n"
      ],
      "execution_count": null,
      "outputs": [
        {
          "output_type": "stream",
          "text": [
            "Epoch 1/50\n",
            "313/313 [==============================] - 3s 7ms/step - loss: 1.4201 - accuracy: 0.6169 - val_loss: 0.3663 - val_accuracy: 0.9037\n",
            "Epoch 2/50\n",
            "313/313 [==============================] - 2s 6ms/step - loss: 0.3098 - accuracy: 0.9195 - val_loss: 0.2872 - val_accuracy: 0.9190\n",
            "Epoch 3/50\n",
            "313/313 [==============================] - 2s 6ms/step - loss: 0.2194 - accuracy: 0.9403 - val_loss: 0.2348 - val_accuracy: 0.9338\n",
            "Epoch 4/50\n",
            "313/313 [==============================] - 2s 6ms/step - loss: 0.1704 - accuracy: 0.9537 - val_loss: 0.2097 - val_accuracy: 0.9414\n",
            "Epoch 5/50\n",
            "313/313 [==============================] - 2s 6ms/step - loss: 0.1358 - accuracy: 0.9630 - val_loss: 0.1914 - val_accuracy: 0.9433\n",
            "Epoch 6/50\n",
            "313/313 [==============================] - 2s 6ms/step - loss: 0.1175 - accuracy: 0.9682 - val_loss: 0.1907 - val_accuracy: 0.9431\n",
            "Epoch 7/50\n",
            "313/313 [==============================] - 2s 6ms/step - loss: 0.0863 - accuracy: 0.9791 - val_loss: 0.1750 - val_accuracy: 0.9483\n",
            "Epoch 8/50\n",
            "313/313 [==============================] - 2s 6ms/step - loss: 0.0736 - accuracy: 0.9810 - val_loss: 0.1735 - val_accuracy: 0.9451\n",
            "Epoch 9/50\n",
            "313/313 [==============================] - 2s 6ms/step - loss: 0.0569 - accuracy: 0.9883 - val_loss: 0.1604 - val_accuracy: 0.9503\n",
            "Epoch 10/50\n",
            "313/313 [==============================] - 2s 6ms/step - loss: 0.0501 - accuracy: 0.9884 - val_loss: 0.1711 - val_accuracy: 0.9473\n",
            "Epoch 11/50\n",
            "313/313 [==============================] - 2s 6ms/step - loss: 0.0382 - accuracy: 0.9923 - val_loss: 0.1568 - val_accuracy: 0.9516\n",
            "Epoch 12/50\n",
            "313/313 [==============================] - 2s 6ms/step - loss: 0.0307 - accuracy: 0.9950 - val_loss: 0.1660 - val_accuracy: 0.9490\n",
            "Epoch 13/50\n",
            "313/313 [==============================] - 2s 6ms/step - loss: 0.0264 - accuracy: 0.9955 - val_loss: 0.1626 - val_accuracy: 0.9523\n",
            "Epoch 14/50\n",
            "313/313 [==============================] - 2s 6ms/step - loss: 0.0203 - accuracy: 0.9975 - val_loss: 0.1570 - val_accuracy: 0.9545\n",
            "Epoch 15/50\n",
            "313/313 [==============================] - 2s 6ms/step - loss: 0.0174 - accuracy: 0.9974 - val_loss: 0.1583 - val_accuracy: 0.9535\n",
            "Epoch 16/50\n",
            "313/313 [==============================] - 2s 6ms/step - loss: 0.0129 - accuracy: 0.9983 - val_loss: 0.1563 - val_accuracy: 0.9551\n",
            "Epoch 17/50\n",
            "313/313 [==============================] - 2s 6ms/step - loss: 0.0101 - accuracy: 0.9995 - val_loss: 0.1613 - val_accuracy: 0.9545\n",
            "Epoch 18/50\n",
            "313/313 [==============================] - 2s 6ms/step - loss: 0.0079 - accuracy: 0.9995 - val_loss: 0.1604 - val_accuracy: 0.9554\n",
            "Epoch 19/50\n",
            "313/313 [==============================] - 2s 6ms/step - loss: 0.0056 - accuracy: 0.9999 - val_loss: 0.1619 - val_accuracy: 0.9555\n",
            "Epoch 20/50\n",
            "313/313 [==============================] - 2s 6ms/step - loss: 0.0050 - accuracy: 1.0000 - val_loss: 0.1664 - val_accuracy: 0.9555\n",
            "Epoch 21/50\n",
            "313/313 [==============================] - 2s 6ms/step - loss: 0.0044 - accuracy: 1.0000 - val_loss: 0.1646 - val_accuracy: 0.9562\n",
            "Epoch 22/50\n",
            "313/313 [==============================] - 2s 6ms/step - loss: 0.0030 - accuracy: 1.0000 - val_loss: 0.1697 - val_accuracy: 0.9574\n",
            "Epoch 23/50\n",
            "313/313 [==============================] - 2s 6ms/step - loss: 0.0023 - accuracy: 1.0000 - val_loss: 0.1691 - val_accuracy: 0.9574\n",
            "Epoch 24/50\n",
            "313/313 [==============================] - 2s 6ms/step - loss: 0.0019 - accuracy: 1.0000 - val_loss: 0.1954 - val_accuracy: 0.9538\n",
            "Epoch 25/50\n",
            "313/313 [==============================] - 2s 6ms/step - loss: 0.0115 - accuracy: 0.9966 - val_loss: 0.1885 - val_accuracy: 0.9532\n",
            "Epoch 26/50\n",
            "313/313 [==============================] - 2s 6ms/step - loss: 0.0040 - accuracy: 0.9999 - val_loss: 0.1707 - val_accuracy: 0.9570\n",
            "Epoch 27/50\n",
            "313/313 [==============================] - 2s 6ms/step - loss: 0.0013 - accuracy: 1.0000 - val_loss: 0.1708 - val_accuracy: 0.9581\n",
            "Epoch 28/50\n",
            "306/313 [============================>.] - ETA: 0s - loss: 0.0011 - accuracy: 1.0000"
          ],
          "name": "stdout"
        }
      ]
    },
    {
      "cell_type": "markdown",
      "metadata": {
        "id": "QIAfpKqGUTTt"
      },
      "source": [
        "### plot model loss history"
      ]
    },
    {
      "cell_type": "code",
      "metadata": {
        "id": "GNUfEo2NUTTt"
      },
      "source": [
        "model_loss_history = pd.DataFrame({'loss': my_first_classifier_model.history.history['loss'],\n",
        "                             'val_loss': my_first_classifier_model.history.history['val_loss']})"
      ],
      "execution_count": null,
      "outputs": []
    },
    {
      "cell_type": "code",
      "metadata": {
        "id": "ytNMPTEzUTTt"
      },
      "source": [
        "model_loss_history.plot()"
      ],
      "execution_count": null,
      "outputs": []
    },
    {
      "cell_type": "markdown",
      "metadata": {
        "id": "ikoVFtfRUTTv"
      },
      "source": [
        "### min of validation loss"
      ]
    },
    {
      "cell_type": "code",
      "metadata": {
        "scrolled": true,
        "id": "X1RW7RGNUTTv"
      },
      "source": [
        "model_loss_history['val_loss'].min()"
      ],
      "execution_count": null,
      "outputs": []
    },
    {
      "cell_type": "markdown",
      "metadata": {
        "id": "xDY946OgUTTx"
      },
      "source": [
        "### plot model accuracy history"
      ]
    },
    {
      "cell_type": "code",
      "metadata": {
        "id": "TAYQ9fGFUTTx"
      },
      "source": [
        "model_accuracy_history = pd.DataFrame({'accuracy': my_first_classifier_model.history.history['accuracy'],\n",
        "                                       'val_accuracy': my_first_classifier_model.history.history['val_accuracy']})"
      ],
      "execution_count": null,
      "outputs": []
    },
    {
      "cell_type": "code",
      "metadata": {
        "id": "7K53-dYDUTTy"
      },
      "source": [
        "model_accuracy_history.plot()"
      ],
      "execution_count": null,
      "outputs": []
    },
    {
      "cell_type": "markdown",
      "metadata": {
        "id": "sDPT1Fd7UTTz"
      },
      "source": [
        "### max of validation accuracy"
      ]
    },
    {
      "cell_type": "code",
      "metadata": {
        "id": "s8_aNyfWUTT0"
      },
      "source": [
        "model_accuracy_history['val_accuracy'].max()"
      ],
      "execution_count": null,
      "outputs": []
    },
    {
      "cell_type": "markdown",
      "metadata": {
        "id": "j37u7B4lUTT0"
      },
      "source": [
        "## Evaluate the model"
      ]
    },
    {
      "cell_type": "code",
      "metadata": {
        "id": "Zi5iFozSUTT0"
      },
      "source": [
        "my_first_classifier_model.evaluate(x=test_data, y=test_labels)"
      ],
      "execution_count": null,
      "outputs": []
    },
    {
      "cell_type": "markdown",
      "metadata": {
        "id": "tz_j5zwkUTT1"
      },
      "source": [
        "# Create Another Model with Dropout Layer"
      ]
    },
    {
      "cell_type": "markdown",
      "metadata": {
        "id": "SOSPnq5QUTT2"
      },
      "source": [
        "## Import Dropout layer"
      ]
    },
    {
      "cell_type": "code",
      "metadata": {
        "id": "EUS1UnJVUTT2"
      },
      "source": [
        "from tensorflow.keras.layers import Dropout"
      ],
      "execution_count": null,
      "outputs": []
    },
    {
      "cell_type": "markdown",
      "metadata": {
        "id": "YJCR06hoUTT3"
      },
      "source": [
        "## Create second model with Dropout"
      ]
    },
    {
      "cell_type": "code",
      "metadata": {
        "id": "BJyu0fyeUTT3"
      },
      "source": [
        "input_layer = Input(shape=(784,))\n",
        "x = Dense(units=512, activation='relu')(input_layer)\n",
        "x = Dropout(0.3)(x)\n",
        "x = Dense(units=256, activation='relu')(x)\n",
        "x = Dropout(0.3)(x)\n",
        "x = Dense(units=128, activation='relu')(x)\n",
        "x = Dropout(0.3)(x)\n",
        "predictions = Dense(units=10, activation='softmax')(x)\n",
        "\n",
        "my_second_classifier_model = Model(inputs=input_layer, outputs=predictions)"
      ],
      "execution_count": null,
      "outputs": []
    },
    {
      "cell_type": "markdown",
      "metadata": {
        "id": "CZDbMArKUTT4"
      },
      "source": [
        "### print summary of the model"
      ]
    },
    {
      "cell_type": "code",
      "metadata": {
        "id": "QV0B1azuUTT4"
      },
      "source": [
        "my_second_classifier_model.summary()"
      ],
      "execution_count": null,
      "outputs": []
    },
    {
      "cell_type": "markdown",
      "metadata": {
        "id": "j-nDv4H1UTT5"
      },
      "source": [
        "## Compile the model with optimizer, loss function and accuracy metric"
      ]
    },
    {
      "cell_type": "code",
      "metadata": {
        "id": "6__IZ3QsUTT5"
      },
      "source": [
        "from tensorflow.keras.optimizers import SGD, Adam\n",
        "my_second_classifier_model.compile(optimizer=Adam(learning_rate=0.0001),\n",
        "                                   loss='categorical_crossentropy',\n",
        "                                   metrics=['accuracy'])"
      ],
      "execution_count": null,
      "outputs": []
    },
    {
      "cell_type": "markdown",
      "metadata": {
        "id": "2mEXlWABUTT6"
      },
      "source": [
        "## Now we can train our model"
      ]
    },
    {
      "cell_type": "code",
      "metadata": {
        "id": "na9uN67EUTT7"
      },
      "source": [
        "my_second_classifier_model.fit(x=train_data, y=train_labels,\n",
        "                              batch_size=32, epochs=50, shuffle=True,\n",
        "                              validation_data=(test_data, test_labels))"
      ],
      "execution_count": null,
      "outputs": []
    },
    {
      "cell_type": "markdown",
      "metadata": {
        "id": "VsmOvkdrUTT8"
      },
      "source": [
        "### Plot model loss history"
      ]
    },
    {
      "cell_type": "code",
      "metadata": {
        "id": "q_jPdzsEUTT8"
      },
      "source": [
        "model_loss_history = pd.DataFrame({'loss': my_second_classifier_model.history.history['loss'],\n",
        "                                   'val_loss': my_second_classifier_model.history.history['val_loss']})"
      ],
      "execution_count": null,
      "outputs": []
    },
    {
      "cell_type": "code",
      "metadata": {
        "id": "_Qg3dtDGUTT8"
      },
      "source": [
        "model_loss_history.plot()"
      ],
      "execution_count": null,
      "outputs": []
    },
    {
      "cell_type": "markdown",
      "metadata": {
        "id": "XnWtTBQEUTT9"
      },
      "source": [
        "### min of model validation loss history"
      ]
    },
    {
      "cell_type": "code",
      "metadata": {
        "id": "eEdgEuz-UTT9"
      },
      "source": [
        "model_loss_history['val_loss'].min()"
      ],
      "execution_count": null,
      "outputs": []
    },
    {
      "cell_type": "markdown",
      "metadata": {
        "id": "OqZjtVmwUTT-"
      },
      "source": [
        "### plot model accuracy history"
      ]
    },
    {
      "cell_type": "code",
      "metadata": {
        "id": "H-VhHD5bUTT-"
      },
      "source": [
        "model_accuracy_history = pd.DataFrame({'accuracy': my_second_classifier_model.history.history['accuracy'],\n",
        "                                       'val_accuracy': my_second_classifier_model.history.history['val_accuracy']})"
      ],
      "execution_count": null,
      "outputs": []
    },
    {
      "cell_type": "code",
      "metadata": {
        "id": "COf4QjnSUTT-"
      },
      "source": [
        "model_accuracy_history.plot()"
      ],
      "execution_count": null,
      "outputs": []
    },
    {
      "cell_type": "markdown",
      "metadata": {
        "id": "ai5sWLXnUTUA"
      },
      "source": [
        "### max of model validation accuracy"
      ]
    },
    {
      "cell_type": "code",
      "metadata": {
        "id": "A708lUHwUTUA"
      },
      "source": [
        "model_accuracy_history['val_accuracy'].max()"
      ],
      "execution_count": null,
      "outputs": []
    },
    {
      "cell_type": "markdown",
      "metadata": {
        "id": "MwiZ3xB2UTUB"
      },
      "source": [
        "## Evaluate the model"
      ]
    },
    {
      "cell_type": "code",
      "metadata": {
        "id": "0cd7OO_iUTUB"
      },
      "source": [
        "my_second_classifier_model.evaluate(x=test_data, y=test_labels)"
      ],
      "execution_count": null,
      "outputs": []
    },
    {
      "cell_type": "code",
      "metadata": {
        "id": "kVv1FjR5UTUC"
      },
      "source": [
        ""
      ],
      "execution_count": null,
      "outputs": []
    }
  ]
}